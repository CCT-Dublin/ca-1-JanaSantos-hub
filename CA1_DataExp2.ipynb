{
 "cells": [
  {
   "cell_type": "code",
   "execution_count": 1,
   "id": "49bb16e8-b46e-45ab-b9ba-fc7611696562",
   "metadata": {},
   "outputs": [],
   "source": [
    "#\tEDA process, \n",
    "#\tData Cleaning,\n",
    "#\tFeature Selection\n",
    "#\tDealing with Duplicates"
   ]
  },
  {
   "cell_type": "code",
   "execution_count": 2,
   "id": "133e5758-8741-4c8e-850d-2937524ebe64",
   "metadata": {},
   "outputs": [],
   "source": [
    "#Importing libraries\n",
    "\n",
    "import pandas as pd\n",
    "import numpy as np\n",
    "import statistics as stats\n",
    "import matplotlib.pyplot as plt\n"
   ]
  },
  {
   "cell_type": "code",
   "execution_count": 3,
   "id": "8f982b72-afbd-4475-9c45-cf8ab27ef237",
   "metadata": {},
   "outputs": [],
   "source": [
    "#Importing the file\n",
    "\n",
    "df=pd.read_csv(\"Salary_Survey.csv\")"
   ]
  },
  {
   "cell_type": "code",
   "execution_count": 4,
   "id": "4125a9ba-c53a-47d3-a8f4-310f5b818ec8",
   "metadata": {},
   "outputs": [
    {
     "data": {
      "text/plain": [
       "(28178, 23)"
      ]
     },
     "execution_count": 4,
     "metadata": {},
     "output_type": "execute_result"
    }
   ],
   "source": [
    "#Checking the shape of the file; how many observations and features to have an idea of the size of it.\n",
    "\n",
    "df.shape"
   ]
  },
  {
   "cell_type": "code",
   "execution_count": 5,
   "id": "95160d15-05ee-4dc9-9dfe-8834e4edc86b",
   "metadata": {},
   "outputs": [
    {
     "data": {
      "text/html": [
       "<div>\n",
       "<style scoped>\n",
       "    .dataframe tbody tr th:only-of-type {\n",
       "        vertical-align: middle;\n",
       "    }\n",
       "\n",
       "    .dataframe tbody tr th {\n",
       "        vertical-align: top;\n",
       "    }\n",
       "\n",
       "    .dataframe thead th {\n",
       "        text-align: right;\n",
       "    }\n",
       "</style>\n",
       "<table border=\"1\" class=\"dataframe\">\n",
       "  <thead>\n",
       "    <tr style=\"text-align: right;\">\n",
       "      <th></th>\n",
       "      <th>Timestamp</th>\n",
       "      <th>How old are you?</th>\n",
       "      <th>What industry do you work in?</th>\n",
       "      <th>Job title</th>\n",
       "      <th>If your job title needs additional context, please clarify here:</th>\n",
       "      <th>What is your annual salary? (You'll indicate the currency in a later question. If you are part-time or hourly, please enter an annualized equivalent -- what you would earn if you worked the job 40 hours a week, 52 weeks a year.)</th>\n",
       "      <th>How much additional monetary compensation do you get, if any (for example, bonuses or overtime in an average year)? Please only include monetary compensation here, not the value of benefits.</th>\n",
       "      <th>Please indicate the currency</th>\n",
       "      <th>If \"Other,\" please indicate the currency here:</th>\n",
       "      <th>If your income needs additional context, please provide it here:</th>\n",
       "      <th>...</th>\n",
       "      <th>How many years of professional work experience do you have overall?</th>\n",
       "      <th>How many years of professional work experience do you have in your field?</th>\n",
       "      <th>What is your highest level of education completed?</th>\n",
       "      <th>What is your gender?</th>\n",
       "      <th>Unnamed: 17</th>\n",
       "      <th>Unnamed: 18</th>\n",
       "      <th>Unnamed: 19</th>\n",
       "      <th>Unnamed: 20</th>\n",
       "      <th>Unnamed: 21</th>\n",
       "      <th>Unnamed: 22</th>\n",
       "    </tr>\n",
       "  </thead>\n",
       "  <tbody>\n",
       "    <tr>\n",
       "      <th>0</th>\n",
       "      <td>4/27/2021 11:02:10</td>\n",
       "      <td>25-34</td>\n",
       "      <td>Education (Higher Education)</td>\n",
       "      <td>Research and Instruction Librarian</td>\n",
       "      <td>NaN</td>\n",
       "      <td>55,000</td>\n",
       "      <td>0.0</td>\n",
       "      <td>USD</td>\n",
       "      <td>NaN</td>\n",
       "      <td>NaN</td>\n",
       "      <td>...</td>\n",
       "      <td>5-7 years</td>\n",
       "      <td>5-7 years</td>\n",
       "      <td>Master's degree</td>\n",
       "      <td>Woman</td>\n",
       "      <td>NaN</td>\n",
       "      <td>NaN</td>\n",
       "      <td>NaN</td>\n",
       "      <td>NaN</td>\n",
       "      <td>NaN</td>\n",
       "      <td>NaN</td>\n",
       "    </tr>\n",
       "    <tr>\n",
       "      <th>1</th>\n",
       "      <td>4/27/2021 11:02:22</td>\n",
       "      <td>25-34</td>\n",
       "      <td>Computing or Tech</td>\n",
       "      <td>Change &amp; Internal Communications Manager</td>\n",
       "      <td>NaN</td>\n",
       "      <td>54,600</td>\n",
       "      <td>4000.0</td>\n",
       "      <td>GBP</td>\n",
       "      <td>NaN</td>\n",
       "      <td>NaN</td>\n",
       "      <td>...</td>\n",
       "      <td>8 - 10 years</td>\n",
       "      <td>5-7 years</td>\n",
       "      <td>College degree</td>\n",
       "      <td>Non-binary</td>\n",
       "      <td>NaN</td>\n",
       "      <td>NaN</td>\n",
       "      <td>NaN</td>\n",
       "      <td>NaN</td>\n",
       "      <td>NaN</td>\n",
       "      <td>NaN</td>\n",
       "    </tr>\n",
       "    <tr>\n",
       "      <th>2</th>\n",
       "      <td>4/27/2021 11:02:38</td>\n",
       "      <td>25-34</td>\n",
       "      <td>Accounting, Banking &amp; Finance</td>\n",
       "      <td>Marketing Specialist</td>\n",
       "      <td>NaN</td>\n",
       "      <td>34,000</td>\n",
       "      <td>NaN</td>\n",
       "      <td>USD</td>\n",
       "      <td>NaN</td>\n",
       "      <td>NaN</td>\n",
       "      <td>...</td>\n",
       "      <td>2 - 4 years</td>\n",
       "      <td>2 - 4 years</td>\n",
       "      <td>College degree</td>\n",
       "      <td>Woman</td>\n",
       "      <td>NaN</td>\n",
       "      <td>NaN</td>\n",
       "      <td>NaN</td>\n",
       "      <td>NaN</td>\n",
       "      <td>NaN</td>\n",
       "      <td>NaN</td>\n",
       "    </tr>\n",
       "    <tr>\n",
       "      <th>3</th>\n",
       "      <td>4/27/2021 11:02:41</td>\n",
       "      <td>25-34</td>\n",
       "      <td>Nonprofits</td>\n",
       "      <td>Program Manager</td>\n",
       "      <td>NaN</td>\n",
       "      <td>62,000</td>\n",
       "      <td>3000.0</td>\n",
       "      <td>USD</td>\n",
       "      <td>NaN</td>\n",
       "      <td>NaN</td>\n",
       "      <td>...</td>\n",
       "      <td>8 - 10 years</td>\n",
       "      <td>5-7 years</td>\n",
       "      <td>College degree</td>\n",
       "      <td>Woman</td>\n",
       "      <td>NaN</td>\n",
       "      <td>NaN</td>\n",
       "      <td>NaN</td>\n",
       "      <td>NaN</td>\n",
       "      <td>NaN</td>\n",
       "      <td>NaN</td>\n",
       "    </tr>\n",
       "    <tr>\n",
       "      <th>4</th>\n",
       "      <td>4/27/2021 11:02:42</td>\n",
       "      <td>25-34</td>\n",
       "      <td>Accounting, Banking &amp; Finance</td>\n",
       "      <td>Accounting Manager</td>\n",
       "      <td>NaN</td>\n",
       "      <td>60,000</td>\n",
       "      <td>7000.0</td>\n",
       "      <td>USD</td>\n",
       "      <td>NaN</td>\n",
       "      <td>NaN</td>\n",
       "      <td>...</td>\n",
       "      <td>8 - 10 years</td>\n",
       "      <td>5-7 years</td>\n",
       "      <td>College degree</td>\n",
       "      <td>Woman</td>\n",
       "      <td>NaN</td>\n",
       "      <td>NaN</td>\n",
       "      <td>NaN</td>\n",
       "      <td>NaN</td>\n",
       "      <td>NaN</td>\n",
       "      <td>NaN</td>\n",
       "    </tr>\n",
       "  </tbody>\n",
       "</table>\n",
       "<p>5 rows × 23 columns</p>\n",
       "</div>"
      ],
      "text/plain": [
       "            Timestamp How old are you?  What industry do you work in?  \\\n",
       "0  4/27/2021 11:02:10            25-34   Education (Higher Education)   \n",
       "1  4/27/2021 11:02:22            25-34              Computing or Tech   \n",
       "2  4/27/2021 11:02:38            25-34  Accounting, Banking & Finance   \n",
       "3  4/27/2021 11:02:41            25-34                     Nonprofits   \n",
       "4  4/27/2021 11:02:42            25-34  Accounting, Banking & Finance   \n",
       "\n",
       "                                  Job title  \\\n",
       "0        Research and Instruction Librarian   \n",
       "1  Change & Internal Communications Manager   \n",
       "2                      Marketing Specialist   \n",
       "3                           Program Manager   \n",
       "4                        Accounting Manager   \n",
       "\n",
       "  If your job title needs additional context, please clarify here:  \\\n",
       "0                                                NaN                 \n",
       "1                                                NaN                 \n",
       "2                                                NaN                 \n",
       "3                                                NaN                 \n",
       "4                                                NaN                 \n",
       "\n",
       "  What is your annual salary? (You'll indicate the currency in a later question. If you are part-time or hourly, please enter an annualized equivalent -- what you would earn if you worked the job 40 hours a week, 52 weeks a year.)  \\\n",
       "0                                             55,000                                                                                                                                                                                     \n",
       "1                                             54,600                                                                                                                                                                                     \n",
       "2                                             34,000                                                                                                                                                                                     \n",
       "3                                             62,000                                                                                                                                                                                     \n",
       "4                                             60,000                                                                                                                                                                                     \n",
       "\n",
       "   How much additional monetary compensation do you get, if any (for example, bonuses or overtime in an average year)? Please only include monetary compensation here, not the value of benefits.  \\\n",
       "0                                                0.0                                                                                                                                                \n",
       "1                                             4000.0                                                                                                                                                \n",
       "2                                                NaN                                                                                                                                                \n",
       "3                                             3000.0                                                                                                                                                \n",
       "4                                             7000.0                                                                                                                                                \n",
       "\n",
       "  Please indicate the currency  \\\n",
       "0                          USD   \n",
       "1                          GBP   \n",
       "2                          USD   \n",
       "3                          USD   \n",
       "4                          USD   \n",
       "\n",
       "  If \"Other,\" please indicate the currency here:   \\\n",
       "0                                             NaN   \n",
       "1                                             NaN   \n",
       "2                                             NaN   \n",
       "3                                             NaN   \n",
       "4                                             NaN   \n",
       "\n",
       "  If your income needs additional context, please provide it here:  ...  \\\n",
       "0                                                NaN                ...   \n",
       "1                                                NaN                ...   \n",
       "2                                                NaN                ...   \n",
       "3                                                NaN                ...   \n",
       "4                                                NaN                ...   \n",
       "\n",
       "  How many years of professional work experience do you have overall?  \\\n",
       "0                                          5-7 years                    \n",
       "1                                       8 - 10 years                    \n",
       "2                                        2 - 4 years                    \n",
       "3                                       8 - 10 years                    \n",
       "4                                       8 - 10 years                    \n",
       "\n",
       "  How many years of professional work experience do you have in your field?  \\\n",
       "0                                          5-7 years                          \n",
       "1                                          5-7 years                          \n",
       "2                                        2 - 4 years                          \n",
       "3                                          5-7 years                          \n",
       "4                                          5-7 years                          \n",
       "\n",
       "  What is your highest level of education completed? What is your gender?  \\\n",
       "0                                    Master's degree                Woman   \n",
       "1                                     College degree           Non-binary   \n",
       "2                                     College degree                Woman   \n",
       "3                                     College degree                Woman   \n",
       "4                                     College degree                Woman   \n",
       "\n",
       "  Unnamed: 17 Unnamed: 18 Unnamed: 19  Unnamed: 20  Unnamed: 21  Unnamed: 22  \n",
       "0         NaN         NaN         NaN          NaN          NaN          NaN  \n",
       "1         NaN         NaN         NaN          NaN          NaN          NaN  \n",
       "2         NaN         NaN         NaN          NaN          NaN          NaN  \n",
       "3         NaN         NaN         NaN          NaN          NaN          NaN  \n",
       "4         NaN         NaN         NaN          NaN          NaN          NaN  \n",
       "\n",
       "[5 rows x 23 columns]"
      ]
     },
     "execution_count": 5,
     "metadata": {},
     "output_type": "execute_result"
    }
   ],
   "source": [
    "df.head()"
   ]
  },
  {
   "cell_type": "code",
   "execution_count": 6,
   "id": "4db5b161-c669-4265-aa69-7da2da2f8359",
   "metadata": {},
   "outputs": [
    {
     "name": "stdout",
     "output_type": "stream",
     "text": [
      "Index(['Timestamp', 'How old are you?', 'What industry do you work in?',\n",
      "       'Job title',\n",
      "       'If your job title needs additional context, please clarify here:',\n",
      "       'What is your annual salary? (You'll indicate the currency in a later question. If you are part-time or hourly, please enter an annualized equivalent -- what you would earn if you worked the job 40 hours a week, 52 weeks a year.)',\n",
      "       'How much additional monetary compensation do you get, if any (for example, bonuses or overtime in an average year)? Please only include monetary compensation here, not the value of benefits.',\n",
      "       'Please indicate the currency',\n",
      "       'If \"Other,\" please indicate the currency here: ',\n",
      "       'If your income needs additional context, please provide it here:',\n",
      "       'What country do you work in?',\n",
      "       'If you're in the U.S., what state do you work in?',\n",
      "       'What city do you work in?',\n",
      "       'How many years of professional work experience do you have overall?',\n",
      "       'How many years of professional work experience do you have in your field?',\n",
      "       'What is your highest level of education completed?',\n",
      "       'What is your gender?', 'Unnamed: 17', 'Unnamed: 18', 'Unnamed: 19',\n",
      "       'Unnamed: 20', 'Unnamed: 21', 'Unnamed: 22'],\n",
      "      dtype='object')\n"
     ]
    }
   ],
   "source": [
    "#The features titles are long so I will double check the names to see any hidden characters on it.\n",
    "    \n",
    "print(df.columns)"
   ]
  },
  {
   "cell_type": "code",
   "execution_count": 7,
   "id": "63c5323d-f1a4-455d-a497-dac90a8a413e",
   "metadata": {},
   "outputs": [],
   "source": [
    "#Marking corrupt values as missing to standa\n",
    "\n",
    "missing_values=[\"n.a.\",\"?\",\"NA\",\"n/a\", \"na\", \"--\",'nan']\n",
    "df = pd.read_csv(\"Salary_Survey.csv\",na_values = missing_values)"
   ]
  },
  {
   "cell_type": "code",
   "execution_count": 8,
   "id": "86bfddc7-4290-4197-8305-5e9d658f85a1",
   "metadata": {},
   "outputs": [],
   "source": [
    "#Rename the features to make the data easier to read and work with.\n",
    "\n",
    "df=df.rename(columns={\"How old are you?\":\"Age\",'Job title':\"Job_title\",\"What industry do you work in?\":\"Industry\",'If your job title needs additional context, please clarify here:':\"Job_title_context\",\"What is your annual salary? (You'll indicate the currency in a later question. If you are part-time or hourly, please enter an annualized equivalent -- what you would earn if you worked the job 40 hours a week, 52 weeks a year.)\":\"Annual_Salary\",'How much additional monetary compensation do you get, if any (for example, bonuses or overtime in an average year)? Please only include monetary compensation here, not the value of benefits.':\"Monetary_Compensation\",\"Please indicate the currency\":\"Currency\",'If \"Other,\" please indicate the currency here: ':\"Other_currencies\",'If your income needs additional context, please provide it here:':\"Income_context\", 'What country do you work in?':\"Country_of_work\",\"If you're in the U.S., what state do you work in?\":\"US_State\",'What city do you work in?':\"City_of_work\",\"How many years of professional work experience do you have overall?\":\"Overral_experience\",'How many years of professional work experience do you have in your field?':\"Field_Expe_Years\",'What is your highest level of education completed?':\"Education\",'What is your gender?':\"Gender\"})"
   ]
  },
  {
   "cell_type": "code",
   "execution_count": 9,
   "id": "fa6ce39c-53b4-4364-b9ab-88027e03a570",
   "metadata": {},
   "outputs": [
    {
     "data": {
      "text/plain": [
       "Timestamp                 object\n",
       "Age                       object\n",
       "Industry                  object\n",
       "Job_title                 object\n",
       "Job_title_context         object\n",
       "Annual_Salary             object\n",
       "Monetary_Compensation    float64\n",
       "Currency                  object\n",
       "Other_currencies          object\n",
       "Income_context            object\n",
       "Country_of_work           object\n",
       "US_State                  object\n",
       "City_of_work              object\n",
       "Overral_experience        object\n",
       "Field_Expe_Years          object\n",
       "Education                 object\n",
       "Gender                    object\n",
       "Unnamed: 17              float64\n",
       "Unnamed: 18              float64\n",
       "Unnamed: 19              float64\n",
       "Unnamed: 20              float64\n",
       "Unnamed: 21              float64\n",
       "Unnamed: 22              float64\n",
       "dtype: object"
      ]
     },
     "execution_count": 9,
     "metadata": {},
     "output_type": "execute_result"
    }
   ],
   "source": [
    "#Checkinf the type of data is there.\n",
    "\n",
    "df.dtypes\n",
    "\n",
    "##Some features that should be numerical came up as object, which could be because of malformed values, but before fixing that I will rename the features as they are too long."
   ]
  },
  {
   "cell_type": "code",
   "execution_count": 10,
   "id": "5632e835-7188-4de5-89fe-ef4999f76a95",
   "metadata": {},
   "outputs": [
    {
     "name": "stdout",
     "output_type": "stream",
     "text": [
      "<class 'pandas.core.frame.DataFrame'>\n",
      "RangeIndex: 28178 entries, 0 to 28177\n",
      "Data columns (total 23 columns):\n",
      " #   Column                 Non-Null Count  Dtype  \n",
      "---  ------                 --------------  -----  \n",
      " 0   Timestamp              28085 non-null  object \n",
      " 1   Age                    28085 non-null  object \n",
      " 2   Industry               28011 non-null  object \n",
      " 3   Job_title              28083 non-null  object \n",
      " 4   Job_title_context      7266 non-null   object \n",
      " 5   Annual_Salary          28085 non-null  object \n",
      " 6   Monetary_Compensation  20780 non-null  float64\n",
      " 7   Currency               28085 non-null  object \n",
      " 8   Other_currencies       206 non-null    object \n",
      " 9   Income_context         3043 non-null   object \n",
      " 10  Country_of_work        28084 non-null  object \n",
      " 11  US_State               23059 non-null  object \n",
      " 12  City_of_work           27994 non-null  object \n",
      " 13  Overral_experience     28085 non-null  object \n",
      " 14  Field_Expe_Years       28085 non-null  object \n",
      " 15  Education              27863 non-null  object \n",
      " 16  Gender                 27914 non-null  object \n",
      " 17  Unnamed: 17            0 non-null      float64\n",
      " 18  Unnamed: 18            0 non-null      float64\n",
      " 19  Unnamed: 19            0 non-null      float64\n",
      " 20  Unnamed: 20            0 non-null      float64\n",
      " 21  Unnamed: 21            0 non-null      float64\n",
      " 22  Unnamed: 22            0 non-null      float64\n",
      "dtypes: float64(7), object(16)\n",
      "memory usage: 4.9+ MB\n"
     ]
    }
   ],
   "source": [
    "#Checking info to see non null values and how much information we have in each feature.\n",
    "\n",
    "df.info()"
   ]
  },
  {
   "cell_type": "code",
   "execution_count": 11,
   "id": "9431f6cd-6691-4181-9ebb-b5adcbbfaa06",
   "metadata": {},
   "outputs": [],
   "source": [
    "import seaborn as sns"
   ]
  },
  {
   "cell_type": "code",
   "execution_count": 12,
   "id": "cbea46d9-0551-4b9b-8855-78ed3a1f8f8a",
   "metadata": {},
   "outputs": [
    {
     "data": {
      "text/plain": [
       "<Axes: >"
      ]
     },
     "execution_count": 12,
     "metadata": {},
     "output_type": "execute_result"
    },
    {
     "data": {
      "image/png": "[encoded data removed]",
      "text/plain": [
       "<Figure size 640x480 with 1 Axes>"
      ]
     },
     "metadata": {},
     "output_type": "display_data"
    }
   ],
   "source": [
    "#HeatMap for better visualization of null values\n",
    "\n",
    "sns.heatmap(df.isnull(), yticklabels=False,cbar=False,cmap='viridis')\n",
    "\n",
    "#Job title context, other currencies and income context have very little values, most are null, and unnamed 17 to 22 are completed empty so I will drop those features."
   ]
  },
  {
   "cell_type": "code",
   "execution_count": 13,
   "id": "8b2d4748-19c5-47cc-8b7c-e74abcc999b8",
   "metadata": {},
   "outputs": [
    {
     "data": {
      "text/plain": [
       "Timestamp                   93\n",
       "Age                         93\n",
       "Industry                   167\n",
       "Job_title                   95\n",
       "Job_title_context        20912\n",
       "Annual_Salary               93\n",
       "Monetary_Compensation     7398\n",
       "Currency                    93\n",
       "Other_currencies         27972\n",
       "Income_context           25135\n",
       "Country_of_work             94\n",
       "US_State                  5119\n",
       "City_of_work               184\n",
       "Overral_experience          93\n",
       "Field_Expe_Years            93\n",
       "Education                  315\n",
       "Gender                     264\n",
       "Unnamed: 17              28178\n",
       "Unnamed: 18              28178\n",
       "Unnamed: 19              28178\n",
       "Unnamed: 20              28178\n",
       "Unnamed: 21              28178\n",
       "Unnamed: 22              28178\n",
       "dtype: int64"
      ]
     },
     "execution_count": 13,
     "metadata": {},
     "output_type": "execute_result"
    }
   ],
   "source": [
    "#Checking all the empty values\n",
    "\n",
    "df.isnull().sum()"
   ]
  },
  {
   "cell_type": "code",
   "execution_count": 14,
   "id": "70d86913-1070-4fa1-bb44-f8f00b55e728",
   "metadata": {},
   "outputs": [],
   "source": [
    "#Drop empty columns\n",
    "\n",
    "df= df.dropna(axis = 1, how ='all')"
   ]
  },
  {
   "cell_type": "code",
   "execution_count": 15,
   "id": "5e7a5c61-269e-4c48-a0eb-fc2ca3adb6db",
   "metadata": {},
   "outputs": [
    {
     "data": {
      "text/html": [
       "<div>\n",
       "<style scoped>\n",
       "    .dataframe tbody tr th:only-of-type {\n",
       "        vertical-align: middle;\n",
       "    }\n",
       "\n",
       "    .dataframe tbody tr th {\n",
       "        vertical-align: top;\n",
       "    }\n",
       "\n",
       "    .dataframe thead th {\n",
       "        text-align: right;\n",
       "    }\n",
       "</style>\n",
       "<table border=\"1\" class=\"dataframe\">\n",
       "  <thead>\n",
       "    <tr style=\"text-align: right;\">\n",
       "      <th></th>\n",
       "      <th>Timestamp</th>\n",
       "      <th>Age</th>\n",
       "      <th>Industry</th>\n",
       "      <th>Job_title</th>\n",
       "      <th>Job_title_context</th>\n",
       "      <th>Annual_Salary</th>\n",
       "      <th>Monetary_Compensation</th>\n",
       "      <th>Currency</th>\n",
       "      <th>Other_currencies</th>\n",
       "      <th>Income_context</th>\n",
       "      <th>Country_of_work</th>\n",
       "      <th>US_State</th>\n",
       "      <th>City_of_work</th>\n",
       "      <th>Overral_experience</th>\n",
       "      <th>Field_Expe_Years</th>\n",
       "      <th>Education</th>\n",
       "      <th>Gender</th>\n",
       "    </tr>\n",
       "  </thead>\n",
       "  <tbody>\n",
       "    <tr>\n",
       "      <th>0</th>\n",
       "      <td>4/27/2021 11:02:10</td>\n",
       "      <td>25-34</td>\n",
       "      <td>Education (Higher Education)</td>\n",
       "      <td>Research and Instruction Librarian</td>\n",
       "      <td>NaN</td>\n",
       "      <td>55,000</td>\n",
       "      <td>0.0</td>\n",
       "      <td>USD</td>\n",
       "      <td>NaN</td>\n",
       "      <td>NaN</td>\n",
       "      <td>United States</td>\n",
       "      <td>Massachusetts</td>\n",
       "      <td>Boston</td>\n",
       "      <td>5-7 years</td>\n",
       "      <td>5-7 years</td>\n",
       "      <td>Master's degree</td>\n",
       "      <td>Woman</td>\n",
       "    </tr>\n",
       "    <tr>\n",
       "      <th>1</th>\n",
       "      <td>4/27/2021 11:02:22</td>\n",
       "      <td>25-34</td>\n",
       "      <td>Computing or Tech</td>\n",
       "      <td>Change &amp; Internal Communications Manager</td>\n",
       "      <td>NaN</td>\n",
       "      <td>54,600</td>\n",
       "      <td>4000.0</td>\n",
       "      <td>GBP</td>\n",
       "      <td>NaN</td>\n",
       "      <td>NaN</td>\n",
       "      <td>United Kingdom</td>\n",
       "      <td>NaN</td>\n",
       "      <td>Cambridge</td>\n",
       "      <td>8 - 10 years</td>\n",
       "      <td>5-7 years</td>\n",
       "      <td>College degree</td>\n",
       "      <td>Non-binary</td>\n",
       "    </tr>\n",
       "    <tr>\n",
       "      <th>2</th>\n",
       "      <td>4/27/2021 11:02:38</td>\n",
       "      <td>25-34</td>\n",
       "      <td>Accounting, Banking &amp; Finance</td>\n",
       "      <td>Marketing Specialist</td>\n",
       "      <td>NaN</td>\n",
       "      <td>34,000</td>\n",
       "      <td>NaN</td>\n",
       "      <td>USD</td>\n",
       "      <td>NaN</td>\n",
       "      <td>NaN</td>\n",
       "      <td>US</td>\n",
       "      <td>Tennessee</td>\n",
       "      <td>Chattanooga</td>\n",
       "      <td>2 - 4 years</td>\n",
       "      <td>2 - 4 years</td>\n",
       "      <td>College degree</td>\n",
       "      <td>Woman</td>\n",
       "    </tr>\n",
       "    <tr>\n",
       "      <th>3</th>\n",
       "      <td>4/27/2021 11:02:41</td>\n",
       "      <td>25-34</td>\n",
       "      <td>Nonprofits</td>\n",
       "      <td>Program Manager</td>\n",
       "      <td>NaN</td>\n",
       "      <td>62,000</td>\n",
       "      <td>3000.0</td>\n",
       "      <td>USD</td>\n",
       "      <td>NaN</td>\n",
       "      <td>NaN</td>\n",
       "      <td>USA</td>\n",
       "      <td>Wisconsin</td>\n",
       "      <td>Milwaukee</td>\n",
       "      <td>8 - 10 years</td>\n",
       "      <td>5-7 years</td>\n",
       "      <td>College degree</td>\n",
       "      <td>Woman</td>\n",
       "    </tr>\n",
       "    <tr>\n",
       "      <th>4</th>\n",
       "      <td>4/27/2021 11:02:42</td>\n",
       "      <td>25-34</td>\n",
       "      <td>Accounting, Banking &amp; Finance</td>\n",
       "      <td>Accounting Manager</td>\n",
       "      <td>NaN</td>\n",
       "      <td>60,000</td>\n",
       "      <td>7000.0</td>\n",
       "      <td>USD</td>\n",
       "      <td>NaN</td>\n",
       "      <td>NaN</td>\n",
       "      <td>US</td>\n",
       "      <td>South Carolina</td>\n",
       "      <td>Greenville</td>\n",
       "      <td>8 - 10 years</td>\n",
       "      <td>5-7 years</td>\n",
       "      <td>College degree</td>\n",
       "      <td>Woman</td>\n",
       "    </tr>\n",
       "    <tr>\n",
       "      <th>...</th>\n",
       "      <td>...</td>\n",
       "      <td>...</td>\n",
       "      <td>...</td>\n",
       "      <td>...</td>\n",
       "      <td>...</td>\n",
       "      <td>...</td>\n",
       "      <td>...</td>\n",
       "      <td>...</td>\n",
       "      <td>...</td>\n",
       "      <td>...</td>\n",
       "      <td>...</td>\n",
       "      <td>...</td>\n",
       "      <td>...</td>\n",
       "      <td>...</td>\n",
       "      <td>...</td>\n",
       "      <td>...</td>\n",
       "      <td>...</td>\n",
       "    </tr>\n",
       "    <tr>\n",
       "      <th>28080</th>\n",
       "      <td>9/25/2024 19:54:18</td>\n",
       "      <td>45-54</td>\n",
       "      <td>Accounting, Banking &amp; Finance</td>\n",
       "      <td>Product Manager Lead</td>\n",
       "      <td>NaN</td>\n",
       "      <td>117000</td>\n",
       "      <td>8000.0</td>\n",
       "      <td>USD</td>\n",
       "      <td>NaN</td>\n",
       "      <td>NaN</td>\n",
       "      <td>USA</td>\n",
       "      <td>Missouri</td>\n",
       "      <td>Remote</td>\n",
       "      <td>11 - 20 years</td>\n",
       "      <td>11 - 20 years</td>\n",
       "      <td>College degree</td>\n",
       "      <td>Woman</td>\n",
       "    </tr>\n",
       "    <tr>\n",
       "      <th>28081</th>\n",
       "      <td>9/25/2024 21:34:43</td>\n",
       "      <td>45-54</td>\n",
       "      <td>Education (Primary/Secondary)</td>\n",
       "      <td>Curriculum Writer</td>\n",
       "      <td>I am a freelance contract curriculum writer fo...</td>\n",
       "      <td>70000</td>\n",
       "      <td>0.0</td>\n",
       "      <td>USD</td>\n",
       "      <td>NaN</td>\n",
       "      <td>NaN</td>\n",
       "      <td>United States</td>\n",
       "      <td>South Carolina</td>\n",
       "      <td>Bennettsville</td>\n",
       "      <td>21 - 30 years</td>\n",
       "      <td>21 - 30 years</td>\n",
       "      <td>Master's degree</td>\n",
       "      <td>Woman</td>\n",
       "    </tr>\n",
       "    <tr>\n",
       "      <th>28082</th>\n",
       "      <td>9/30/2024 10:52:30</td>\n",
       "      <td>55-64</td>\n",
       "      <td>Government and Public Administration</td>\n",
       "      <td>Clerical Officer</td>\n",
       "      <td>NaN</td>\n",
       "      <td>28600</td>\n",
       "      <td>NaN</td>\n",
       "      <td>EUR</td>\n",
       "      <td>NaN</td>\n",
       "      <td>NaN</td>\n",
       "      <td>Ireland</td>\n",
       "      <td>NaN</td>\n",
       "      <td>Dublin</td>\n",
       "      <td>21 - 30 years</td>\n",
       "      <td>1 year or less</td>\n",
       "      <td>Professional degree (MD, JD, etc.)</td>\n",
       "      <td>Man</td>\n",
       "    </tr>\n",
       "    <tr>\n",
       "      <th>28083</th>\n",
       "      <td>10/4/2024 13:05:24</td>\n",
       "      <td>18-24</td>\n",
       "      <td>Computing or Tech</td>\n",
       "      <td>Software Engineering Co-Op</td>\n",
       "      <td>I was an Intern</td>\n",
       "      <td>56160</td>\n",
       "      <td>0.0</td>\n",
       "      <td>USD</td>\n",
       "      <td>NaN</td>\n",
       "      <td>NaN</td>\n",
       "      <td>United States</td>\n",
       "      <td>Rhode Island</td>\n",
       "      <td>Jhonston</td>\n",
       "      <td>1 year or less</td>\n",
       "      <td>1 year or less</td>\n",
       "      <td>College degree</td>\n",
       "      <td>Man</td>\n",
       "    </tr>\n",
       "    <tr>\n",
       "      <th>28084</th>\n",
       "      <td>10/7/2024 5:17:56</td>\n",
       "      <td>65 or over</td>\n",
       "      <td>Social networks</td>\n",
       "      <td>Content creator</td>\n",
       "      <td>NaN</td>\n",
       "      <td>2000000</td>\n",
       "      <td>NaN</td>\n",
       "      <td>USD</td>\n",
       "      <td>NaN</td>\n",
       "      <td>NaN</td>\n",
       "      <td>Taiwan</td>\n",
       "      <td>Utah, Wisconsin</td>\n",
       "      <td>Milwaukee</td>\n",
       "      <td>41 years or more</td>\n",
       "      <td>2 - 4 years</td>\n",
       "      <td>PhD</td>\n",
       "      <td>Non-binary</td>\n",
       "    </tr>\n",
       "  </tbody>\n",
       "</table>\n",
       "<p>28085 rows × 17 columns</p>\n",
       "</div>"
      ],
      "text/plain": [
       "                Timestamp         Age                              Industry  \\\n",
       "0      4/27/2021 11:02:10       25-34          Education (Higher Education)   \n",
       "1      4/27/2021 11:02:22       25-34                     Computing or Tech   \n",
       "2      4/27/2021 11:02:38       25-34         Accounting, Banking & Finance   \n",
       "3      4/27/2021 11:02:41       25-34                            Nonprofits   \n",
       "4      4/27/2021 11:02:42       25-34         Accounting, Banking & Finance   \n",
       "...                   ...         ...                                   ...   \n",
       "28080  9/25/2024 19:54:18       45-54         Accounting, Banking & Finance   \n",
       "28081  9/25/2024 21:34:43       45-54         Education (Primary/Secondary)   \n",
       "28082  9/30/2024 10:52:30       55-64  Government and Public Administration   \n",
       "28083  10/4/2024 13:05:24       18-24                     Computing or Tech   \n",
       "28084   10/7/2024 5:17:56  65 or over                       Social networks   \n",
       "\n",
       "                                      Job_title  \\\n",
       "0            Research and Instruction Librarian   \n",
       "1      Change & Internal Communications Manager   \n",
       "2                          Marketing Specialist   \n",
       "3                               Program Manager   \n",
       "4                            Accounting Manager   \n",
       "...                                         ...   \n",
       "28080                      Product Manager Lead   \n",
       "28081                         Curriculum Writer   \n",
       "28082                          Clerical Officer   \n",
       "28083                Software Engineering Co-Op   \n",
       "28084                           Content creator   \n",
       "\n",
       "                                       Job_title_context Annual_Salary  \\\n",
       "0                                                    NaN        55,000   \n",
       "1                                                    NaN        54,600   \n",
       "2                                                    NaN        34,000   \n",
       "3                                                    NaN        62,000   \n",
       "4                                                    NaN        60,000   \n",
       "...                                                  ...           ...   \n",
       "28080                                                NaN        117000   \n",
       "28081  I am a freelance contract curriculum writer fo...         70000   \n",
       "28082                                                NaN         28600   \n",
       "28083                                    I was an Intern         56160   \n",
       "28084                                                NaN       2000000   \n",
       "\n",
       "       Monetary_Compensation Currency Other_currencies Income_context  \\\n",
       "0                        0.0      USD              NaN            NaN   \n",
       "1                     4000.0      GBP              NaN            NaN   \n",
       "2                        NaN      USD              NaN            NaN   \n",
       "3                     3000.0      USD              NaN            NaN   \n",
       "4                     7000.0      USD              NaN            NaN   \n",
       "...                      ...      ...              ...            ...   \n",
       "28080                 8000.0      USD              NaN            NaN   \n",
       "28081                    0.0      USD              NaN            NaN   \n",
       "28082                    NaN      EUR              NaN            NaN   \n",
       "28083                    0.0      USD              NaN            NaN   \n",
       "28084                    NaN      USD              NaN            NaN   \n",
       "\n",
       "      Country_of_work         US_State   City_of_work Overral_experience  \\\n",
       "0       United States    Massachusetts         Boston          5-7 years   \n",
       "1      United Kingdom              NaN      Cambridge       8 - 10 years   \n",
       "2                  US        Tennessee    Chattanooga        2 - 4 years   \n",
       "3                 USA        Wisconsin      Milwaukee       8 - 10 years   \n",
       "4                  US   South Carolina     Greenville       8 - 10 years   \n",
       "...               ...              ...            ...                ...   \n",
       "28080             USA         Missouri         Remote      11 - 20 years   \n",
       "28081   United States   South Carolina  Bennettsville      21 - 30 years   \n",
       "28082         Ireland              NaN         Dublin      21 - 30 years   \n",
       "28083   United States     Rhode Island       Jhonston     1 year or less   \n",
       "28084          Taiwan  Utah, Wisconsin      Milwaukee   41 years or more   \n",
       "\n",
       "      Field_Expe_Years                           Education      Gender  \n",
       "0            5-7 years                     Master's degree       Woman  \n",
       "1            5-7 years                      College degree  Non-binary  \n",
       "2          2 - 4 years                      College degree       Woman  \n",
       "3            5-7 years                      College degree       Woman  \n",
       "4            5-7 years                      College degree       Woman  \n",
       "...                ...                                 ...         ...  \n",
       "28080    11 - 20 years                      College degree       Woman  \n",
       "28081    21 - 30 years                     Master's degree       Woman  \n",
       "28082   1 year or less  Professional degree (MD, JD, etc.)         Man  \n",
       "28083   1 year or less                      College degree         Man  \n",
       "28084      2 - 4 years                                 PhD  Non-binary  \n",
       "\n",
       "[28085 rows x 17 columns]"
      ]
     },
     "execution_count": 15,
     "metadata": {},
     "output_type": "execute_result"
    }
   ],
   "source": [
    "#Drop the rows with all NaN values\n",
    "\n",
    "df = df.dropna(axis = 0, how ='all')\n",
    "df"
   ]
  },
  {
   "cell_type": "code",
   "execution_count": 16,
   "id": "9816138d-8e6e-4250-aaa7-2f8b170ed47d",
   "metadata": {},
   "outputs": [
    {
     "data": {
      "text/plain": [
       "0"
      ]
     },
     "execution_count": 16,
     "metadata": {},
     "output_type": "execute_result"
    }
   ],
   "source": [
    "#Check for duplicates\n",
    "\n",
    "df.duplicated().sum()"
   ]
  },
  {
   "cell_type": "code",
   "execution_count": 17,
   "id": "04e9354d-96de-4185-bfb4-322a952cba28",
   "metadata": {},
   "outputs": [],
   "source": [
    "#sns.boxplot(data=df, x=\"Annual_Salary\")\n",
    "\n",
    "#Annual Salary should have broken values because we cant see the values on the graph"
   ]
  },
  {
   "cell_type": "code",
   "execution_count": 18,
   "id": "f12a472d-d0dc-4e90-9b5d-9284cab37d7f",
   "metadata": {},
   "outputs": [
    {
     "data": {
      "text/html": [
       "<div>\n",
       "<style scoped>\n",
       "    .dataframe tbody tr th:only-of-type {\n",
       "        vertical-align: middle;\n",
       "    }\n",
       "\n",
       "    .dataframe tbody tr th {\n",
       "        vertical-align: top;\n",
       "    }\n",
       "\n",
       "    .dataframe thead th {\n",
       "        text-align: right;\n",
       "    }\n",
       "</style>\n",
       "<table border=\"1\" class=\"dataframe\">\n",
       "  <thead>\n",
       "    <tr style=\"text-align: right;\">\n",
       "      <th></th>\n",
       "      <th>Monetary_Compensation</th>\n",
       "    </tr>\n",
       "  </thead>\n",
       "  <tbody>\n",
       "    <tr>\n",
       "      <th>count</th>\n",
       "      <td>2.078000e+04</td>\n",
       "    </tr>\n",
       "    <tr>\n",
       "      <th>mean</th>\n",
       "      <td>1.815342e+04</td>\n",
       "    </tr>\n",
       "    <tr>\n",
       "      <th>std</th>\n",
       "      <td>8.337722e+05</td>\n",
       "    </tr>\n",
       "    <tr>\n",
       "      <th>min</th>\n",
       "      <td>0.000000e+00</td>\n",
       "    </tr>\n",
       "    <tr>\n",
       "      <th>25%</th>\n",
       "      <td>0.000000e+00</td>\n",
       "    </tr>\n",
       "    <tr>\n",
       "      <th>50%</th>\n",
       "      <td>2.000000e+03</td>\n",
       "    </tr>\n",
       "    <tr>\n",
       "      <th>75%</th>\n",
       "      <td>1.000000e+04</td>\n",
       "    </tr>\n",
       "    <tr>\n",
       "      <th>max</th>\n",
       "      <td>1.200000e+08</td>\n",
       "    </tr>\n",
       "  </tbody>\n",
       "</table>\n",
       "</div>"
      ],
      "text/plain": [
       "       Monetary_Compensation\n",
       "count           2.078000e+04\n",
       "mean            1.815342e+04\n",
       "std             8.337722e+05\n",
       "min             0.000000e+00\n",
       "25%             0.000000e+00\n",
       "50%             2.000000e+03\n",
       "75%             1.000000e+04\n",
       "max             1.200000e+08"
      ]
     },
     "execution_count": 18,
     "metadata": {},
     "output_type": "execute_result"
    }
   ],
   "source": [
    "df.describe()"
   ]
  },
  {
   "cell_type": "code",
   "execution_count": 19,
   "id": "076678e5-eb58-4ce9-b2a6-8b63fd82669b",
   "metadata": {},
   "outputs": [],
   "source": [
    "#Remove spaces from observations of features that seems important to my analysis\n",
    "\n",
    "df['Annual_Salary'] = df['Annual_Salary'].str.replace(' ', '')"
   ]
  },
  {
   "cell_type": "code",
   "execution_count": 20,
   "id": "926d593b-4291-41c2-93cb-063364f9628c",
   "metadata": {},
   "outputs": [],
   "source": [
    "#Remove spaces from observations\n",
    "\n",
    "df['Gender'] = df['Gender'].str.replace(' ', '')"
   ]
  },
  {
   "cell_type": "code",
   "execution_count": 21,
   "id": "3a8b3f70-81f3-4daf-9176-51b935b6548a",
   "metadata": {},
   "outputs": [],
   "source": [
    "#Remove spaces from observations\n",
    "\n",
    "df['Currency'] = df['Currency'].str.replace(' ', '')"
   ]
  },
  {
   "cell_type": "code",
   "execution_count": 22,
   "id": "7de75bcc-e9a8-4d38-938b-1540dfb0f912",
   "metadata": {},
   "outputs": [
    {
     "data": {
      "text/plain": [
       "array(['55,000', '54,600', '34,000', ..., '7000', '37741', '53060'],\n",
       "      dtype=object)"
      ]
     },
     "execution_count": 22,
     "metadata": {},
     "output_type": "execute_result"
    }
   ],
   "source": [
    "#Checking for malformed values on the observations so we can identify inconsistencies and standardize\n",
    "\n",
    "df['Annual_Salary'].unique()"
   ]
  },
  {
   "cell_type": "code",
   "execution_count": 23,
   "id": "0aeb97ac-2367-4dab-9864-68c6b99c3eba",
   "metadata": {},
   "outputs": [
    {
     "data": {
      "text/plain": [
       "array(['25-34', '45-54', '35-44', '18-24', '65 or over', '55-64',\n",
       "       'under 18'], dtype=object)"
      ]
     },
     "execution_count": 23,
     "metadata": {},
     "output_type": "execute_result"
    }
   ],
   "source": [
    "df['Age'].unique()\n",
    "#change <18, 65>"
   ]
  },
  {
   "cell_type": "code",
   "execution_count": 24,
   "id": "24b05a0e-efca-40a3-8333-2c8e20fd70cb",
   "metadata": {},
   "outputs": [
    {
     "data": {
      "text/plain": [
       "array(['Education (Higher Education)', 'Computing or Tech',\n",
       "       'Accounting, Banking & Finance', ..., 'Student ', 'Wine & Spirits',\n",
       "       'Social networks'], dtype=object)"
      ]
     },
     "execution_count": 24,
     "metadata": {},
     "output_type": "execute_result"
    }
   ],
   "source": [
    "df['Industry'].unique()"
   ]
  },
  {
   "cell_type": "code",
   "execution_count": 25,
   "id": "2cd98cc8-150d-4632-bfb8-6894caa7b476",
   "metadata": {},
   "outputs": [
    {
     "data": {
      "text/plain": [
       "array(['Research and Instruction Librarian',\n",
       "       'Change & Internal Communications Manager', 'Marketing Specialist',\n",
       "       ..., 'Curriculum Writer', 'Software Engineering Co-Op',\n",
       "       'Content creator'], dtype=object)"
      ]
     },
     "execution_count": 25,
     "metadata": {},
     "output_type": "execute_result"
    }
   ],
   "source": [
    "df['Job_title'].unique()"
   ]
  },
  {
   "cell_type": "code",
   "execution_count": 26,
   "id": "862bdb26-4911-4188-95a4-2f0328a94c82",
   "metadata": {},
   "outputs": [
    {
     "data": {
      "text/plain": [
       "array(['USD', 'GBP', 'CAD', 'EUR', 'AUD/NZD', 'Other', 'CHF', 'ZAR',\n",
       "       'SEK', 'HKD', 'JPY'], dtype=object)"
      ]
     },
     "execution_count": 26,
     "metadata": {},
     "output_type": "execute_result"
    }
   ],
   "source": [
    "df['Currency'].unique()\n"
   ]
  },
  {
   "cell_type": "code",
   "execution_count": 27,
   "id": "0b4b83d0-4d6e-4cb2-8996-4ae43200de0c",
   "metadata": {},
   "outputs": [
    {
     "data": {
      "text/plain": [
       "array(['5-7 years', '2 - 4 years', '21 - 30 years', '11 - 20 years',\n",
       "       '1 year or less', '8 - 10 years', '31 - 40 years',\n",
       "       '41 years or more'], dtype=object)"
      ]
     },
     "execution_count": 27,
     "metadata": {},
     "output_type": "execute_result"
    }
   ],
   "source": [
    "df['Field_Expe_Years'].unique()\n",
    "#drop years, <1 and 41>"
   ]
  },
  {
   "cell_type": "code",
   "execution_count": 28,
   "id": "5486f309-2760-4ea4-bc54-61a25bc331bc",
   "metadata": {},
   "outputs": [
    {
     "data": {
      "text/plain": [
       "array([\"Master's degree\", 'College degree', 'PhD', nan, 'Some college',\n",
       "       'High School', 'Professional degree (MD, JD, etc.)'], dtype=object)"
      ]
     },
     "execution_count": 28,
     "metadata": {},
     "output_type": "execute_result"
    }
   ],
   "source": [
    "df['Education'].unique()\n",
    "#need to fix : college degree/high school"
   ]
  },
  {
   "cell_type": "code",
   "execution_count": 29,
   "id": "823d89e6-77a9-4f22-b2ab-8726592d848d",
   "metadata": {},
   "outputs": [
    {
     "data": {
      "text/plain": [
       "array(['Woman', 'Non-binary', 'Man', nan, 'Otherorprefernottoanswer',\n",
       "       'Prefernottoanswer'], dtype=object)"
      ]
     },
     "execution_count": 29,
     "metadata": {},
     "output_type": "execute_result"
    }
   ],
   "source": [
    "df['Gender'].unique()\n",
    "#need to fix"
   ]
  },
  {
   "cell_type": "code",
   "execution_count": 30,
   "id": "0cc43f7c-919b-4c31-8e8c-ccee7bed854d",
   "metadata": {},
   "outputs": [],
   "source": [
    "Replac_gender ={'Otherorprefernottoanswer':'Other', 'Prefernottoanswer':'Prefer not to answer'}"
   ]
  },
  {
   "cell_type": "code",
   "execution_count": 31,
   "id": "499a9057-0137-485f-938b-683f5c736570",
   "metadata": {},
   "outputs": [],
   "source": [
    "df['Gender']=df['Gender'].replace(Replac_gender)"
   ]
  },
  {
   "cell_type": "code",
   "execution_count": 32,
   "id": "9c0bf023-e052-4cd2-8812-abf84d973208",
   "metadata": {},
   "outputs": [],
   "source": [
    "#Renaming again after reading the file with the missing values to nan.\n",
    "\n",
    "df=df.rename(columns={\"How old are you?\":\"Age\",'Job title':\"Job_title\",\"What industry do you work in?\":\"Industry\",\n",
    "'If your job title needs additional context, please clarify here:':\"Job_title_context\",\n",
    "\"What is your annual salary? (You'll indicate the currency in a later question. If you are part-time or hourly, please enter an annualized equivalent -- what you would earn if you worked the job 40 hours a week, 52 weeks a year.)\":\"Annual_Salary\",\n",
    "'How much additional monetary compensation do you get, if any (for example, bonuses or overtime in an average year)? Please only include monetary compensation here, not the value of benefits.':\"Monetary_Compensation\",\"Please indicate the currency\":\"Currency\",\n",
    "'If \"Other,\" please indicate the currency here: ':\"Other_currencies\",'If your income needs additional context, please provide it here:':\"Income_context\", 'What country do you work in?':\"Country_of_work\",\"If you're in the U.S., what state do you work in?\":\"US_State\",'What city do you work in?':\"City_of_work\",\"How many years of professional work experience do you have overall?\":\"Overral_experience\",'How many years of professional work experience do you have in your field?':\"Field_Expe_Years\",'What is your highest level of education completed?':\"Education\",'What is your gender?':\"Gender\"})"
   ]
  },
  {
   "cell_type": "code",
   "execution_count": 33,
   "id": "9cf1185b-19c7-437e-b847-35c9cb4a4c7a",
   "metadata": {},
   "outputs": [
    {
     "data": {
      "text/plain": [
       "Timestamp                    0\n",
       "Age                          0\n",
       "Industry                    74\n",
       "Job_title                    2\n",
       "Job_title_context        20819\n",
       "Annual_Salary                0\n",
       "Monetary_Compensation     7305\n",
       "Currency                     0\n",
       "Other_currencies         27879\n",
       "Income_context           25042\n",
       "Country_of_work              1\n",
       "US_State                  5026\n",
       "City_of_work                91\n",
       "Overral_experience           0\n",
       "Field_Expe_Years             0\n",
       "Education                  222\n",
       "Gender                     171\n",
       "dtype: int64"
      ]
     },
     "execution_count": 33,
     "metadata": {},
     "output_type": "execute_result"
    }
   ],
   "source": [
    "#Checking on missing values\n",
    "df.isnull().sum()"
   ]
  },
  {
   "cell_type": "code",
   "execution_count": 34,
   "id": "6221933e-43c3-4790-8036-eeb02895637c",
   "metadata": {},
   "outputs": [
    {
     "name": "stdout",
     "output_type": "stream",
     "text": [
      "<class 'pandas.core.frame.DataFrame'>\n",
      "Index: 28085 entries, 0 to 28084\n",
      "Data columns (total 17 columns):\n",
      " #   Column                 Non-Null Count  Dtype  \n",
      "---  ------                 --------------  -----  \n",
      " 0   Timestamp              28085 non-null  object \n",
      " 1   Age                    28085 non-null  object \n",
      " 2   Industry               28011 non-null  object \n",
      " 3   Job_title              28083 non-null  object \n",
      " 4   Job_title_context      7266 non-null   object \n",
      " 5   Annual_Salary          28085 non-null  object \n",
      " 6   Monetary_Compensation  20780 non-null  float64\n",
      " 7   Currency               28085 non-null  object \n",
      " 8   Other_currencies       206 non-null    object \n",
      " 9   Income_context         3043 non-null   object \n",
      " 10  Country_of_work        28084 non-null  object \n",
      " 11  US_State               23059 non-null  object \n",
      " 12  City_of_work           27994 non-null  object \n",
      " 13  Overral_experience     28085 non-null  object \n",
      " 14  Field_Expe_Years       28085 non-null  object \n",
      " 15  Education              27863 non-null  object \n",
      " 16  Gender                 27914 non-null  object \n",
      "dtypes: float64(1), object(16)\n",
      "memory usage: 3.9+ MB\n"
     ]
    }
   ],
   "source": [
    "#Checking if Annual Salary changed to numerical\n",
    "\n",
    "df.info()"
   ]
  },
  {
   "cell_type": "code",
   "execution_count": 35,
   "id": "fe5fac8e-0780-4954-9011-de3ccd334771",
   "metadata": {},
   "outputs": [],
   "source": [
    "#Trying to drop commas and spaces from Salary to change it to numerical\n",
    "\n",
    "df['Annual_Salary']= df['Annual_Salary'].replace(',','', regex=True,)\n",
    "\n",
    "#https://stackoverflow.com/questions/56947333/how-to-remove-commas-from-all-the-column-in-pandas-at-once"
   ]
  },
  {
   "cell_type": "code",
   "execution_count": 36,
   "id": "66e7371d-595f-4f66-bb41-818c69fcf64b",
   "metadata": {},
   "outputs": [],
   "source": [
    "#Changing Annual_Salary feature to numerical\n",
    "\n",
    "df[[\"Annual_Salary\"]] = df[[\"Annual_Salary\"]].apply(pd.to_numeric)\n",
    "\n",
    "#https://stackoverflow.com/questions/15891038/change-column-type-in-pandas"
   ]
  },
  {
   "cell_type": "code",
   "execution_count": 37,
   "id": "9e5507d5-d044-4267-a83f-62ae86cfa894",
   "metadata": {},
   "outputs": [
    {
     "name": "stdout",
     "output_type": "stream",
     "text": [
      "<class 'pandas.core.frame.DataFrame'>\n",
      "Index: 28085 entries, 0 to 28084\n",
      "Data columns (total 17 columns):\n",
      " #   Column                 Non-Null Count  Dtype  \n",
      "---  ------                 --------------  -----  \n",
      " 0   Timestamp              28085 non-null  object \n",
      " 1   Age                    28085 non-null  object \n",
      " 2   Industry               28011 non-null  object \n",
      " 3   Job_title              28083 non-null  object \n",
      " 4   Job_title_context      7266 non-null   object \n",
      " 5   Annual_Salary          28085 non-null  int64  \n",
      " 6   Monetary_Compensation  20780 non-null  float64\n",
      " 7   Currency               28085 non-null  object \n",
      " 8   Other_currencies       206 non-null    object \n",
      " 9   Income_context         3043 non-null   object \n",
      " 10  Country_of_work        28084 non-null  object \n",
      " 11  US_State               23059 non-null  object \n",
      " 12  City_of_work           27994 non-null  object \n",
      " 13  Overral_experience     28085 non-null  object \n",
      " 14  Field_Expe_Years       28085 non-null  object \n",
      " 15  Education              27863 non-null  object \n",
      " 16  Gender                 27914 non-null  object \n",
      "dtypes: float64(1), int64(1), object(15)\n",
      "memory usage: 3.9+ MB\n"
     ]
    }
   ],
   "source": [
    "#Checking if it worked\n",
    "\n",
    "df.info()"
   ]
  },
  {
   "cell_type": "code",
   "execution_count": 38,
   "id": "7682ec77-d836-46da-b47c-7d9dee0c144a",
   "metadata": {},
   "outputs": [
    {
     "data": {
      "text/html": [
       "<div>\n",
       "<style scoped>\n",
       "    .dataframe tbody tr th:only-of-type {\n",
       "        vertical-align: middle;\n",
       "    }\n",
       "\n",
       "    .dataframe tbody tr th {\n",
       "        vertical-align: top;\n",
       "    }\n",
       "\n",
       "    .dataframe thead th {\n",
       "        text-align: right;\n",
       "    }\n",
       "</style>\n",
       "<table border=\"1\" class=\"dataframe\">\n",
       "  <thead>\n",
       "    <tr style=\"text-align: right;\">\n",
       "      <th></th>\n",
       "      <th>Timestamp</th>\n",
       "      <th>Age</th>\n",
       "      <th>Industry</th>\n",
       "      <th>Job_title</th>\n",
       "      <th>Job_title_context</th>\n",
       "      <th>Annual_Salary</th>\n",
       "      <th>Monetary_Compensation</th>\n",
       "      <th>Currency</th>\n",
       "      <th>Other_currencies</th>\n",
       "      <th>Income_context</th>\n",
       "      <th>Country_of_work</th>\n",
       "      <th>US_State</th>\n",
       "      <th>City_of_work</th>\n",
       "      <th>Overral_experience</th>\n",
       "      <th>Field_Expe_Years</th>\n",
       "      <th>Education</th>\n",
       "      <th>Gender</th>\n",
       "    </tr>\n",
       "  </thead>\n",
       "  <tbody>\n",
       "    <tr>\n",
       "      <th>0</th>\n",
       "      <td>4/27/2021 11:02:10</td>\n",
       "      <td>25-34</td>\n",
       "      <td>Education (Higher Education)</td>\n",
       "      <td>Research and Instruction Librarian</td>\n",
       "      <td>NaN</td>\n",
       "      <td>55000</td>\n",
       "      <td>0.0</td>\n",
       "      <td>USD</td>\n",
       "      <td>NaN</td>\n",
       "      <td>NaN</td>\n",
       "      <td>United States</td>\n",
       "      <td>Massachusetts</td>\n",
       "      <td>Boston</td>\n",
       "      <td>5-7 years</td>\n",
       "      <td>5-7 years</td>\n",
       "      <td>Master's degree</td>\n",
       "      <td>Woman</td>\n",
       "    </tr>\n",
       "    <tr>\n",
       "      <th>1</th>\n",
       "      <td>4/27/2021 11:02:22</td>\n",
       "      <td>25-34</td>\n",
       "      <td>Computing or Tech</td>\n",
       "      <td>Change &amp; Internal Communications Manager</td>\n",
       "      <td>NaN</td>\n",
       "      <td>54600</td>\n",
       "      <td>4000.0</td>\n",
       "      <td>GBP</td>\n",
       "      <td>NaN</td>\n",
       "      <td>NaN</td>\n",
       "      <td>United Kingdom</td>\n",
       "      <td>NaN</td>\n",
       "      <td>Cambridge</td>\n",
       "      <td>8 - 10 years</td>\n",
       "      <td>5-7 years</td>\n",
       "      <td>College degree</td>\n",
       "      <td>Non-binary</td>\n",
       "    </tr>\n",
       "    <tr>\n",
       "      <th>2</th>\n",
       "      <td>4/27/2021 11:02:38</td>\n",
       "      <td>25-34</td>\n",
       "      <td>Accounting, Banking &amp; Finance</td>\n",
       "      <td>Marketing Specialist</td>\n",
       "      <td>NaN</td>\n",
       "      <td>34000</td>\n",
       "      <td>NaN</td>\n",
       "      <td>USD</td>\n",
       "      <td>NaN</td>\n",
       "      <td>NaN</td>\n",
       "      <td>US</td>\n",
       "      <td>Tennessee</td>\n",
       "      <td>Chattanooga</td>\n",
       "      <td>2 - 4 years</td>\n",
       "      <td>2 - 4 years</td>\n",
       "      <td>College degree</td>\n",
       "      <td>Woman</td>\n",
       "    </tr>\n",
       "    <tr>\n",
       "      <th>3</th>\n",
       "      <td>4/27/2021 11:02:41</td>\n",
       "      <td>25-34</td>\n",
       "      <td>Nonprofits</td>\n",
       "      <td>Program Manager</td>\n",
       "      <td>NaN</td>\n",
       "      <td>62000</td>\n",
       "      <td>3000.0</td>\n",
       "      <td>USD</td>\n",
       "      <td>NaN</td>\n",
       "      <td>NaN</td>\n",
       "      <td>USA</td>\n",
       "      <td>Wisconsin</td>\n",
       "      <td>Milwaukee</td>\n",
       "      <td>8 - 10 years</td>\n",
       "      <td>5-7 years</td>\n",
       "      <td>College degree</td>\n",
       "      <td>Woman</td>\n",
       "    </tr>\n",
       "    <tr>\n",
       "      <th>4</th>\n",
       "      <td>4/27/2021 11:02:42</td>\n",
       "      <td>25-34</td>\n",
       "      <td>Accounting, Banking &amp; Finance</td>\n",
       "      <td>Accounting Manager</td>\n",
       "      <td>NaN</td>\n",
       "      <td>60000</td>\n",
       "      <td>7000.0</td>\n",
       "      <td>USD</td>\n",
       "      <td>NaN</td>\n",
       "      <td>NaN</td>\n",
       "      <td>US</td>\n",
       "      <td>South Carolina</td>\n",
       "      <td>Greenville</td>\n",
       "      <td>8 - 10 years</td>\n",
       "      <td>5-7 years</td>\n",
       "      <td>College degree</td>\n",
       "      <td>Woman</td>\n",
       "    </tr>\n",
       "  </tbody>\n",
       "</table>\n",
       "</div>"
      ],
      "text/plain": [
       "            Timestamp    Age                       Industry  \\\n",
       "0  4/27/2021 11:02:10  25-34   Education (Higher Education)   \n",
       "1  4/27/2021 11:02:22  25-34              Computing or Tech   \n",
       "2  4/27/2021 11:02:38  25-34  Accounting, Banking & Finance   \n",
       "3  4/27/2021 11:02:41  25-34                     Nonprofits   \n",
       "4  4/27/2021 11:02:42  25-34  Accounting, Banking & Finance   \n",
       "\n",
       "                                  Job_title Job_title_context  Annual_Salary  \\\n",
       "0        Research and Instruction Librarian               NaN          55000   \n",
       "1  Change & Internal Communications Manager               NaN          54600   \n",
       "2                      Marketing Specialist               NaN          34000   \n",
       "3                           Program Manager               NaN          62000   \n",
       "4                        Accounting Manager               NaN          60000   \n",
       "\n",
       "   Monetary_Compensation Currency Other_currencies Income_context  \\\n",
       "0                    0.0      USD              NaN            NaN   \n",
       "1                 4000.0      GBP              NaN            NaN   \n",
       "2                    NaN      USD              NaN            NaN   \n",
       "3                 3000.0      USD              NaN            NaN   \n",
       "4                 7000.0      USD              NaN            NaN   \n",
       "\n",
       "  Country_of_work        US_State City_of_work Overral_experience  \\\n",
       "0   United States   Massachusetts       Boston          5-7 years   \n",
       "1  United Kingdom             NaN    Cambridge       8 - 10 years   \n",
       "2              US       Tennessee  Chattanooga        2 - 4 years   \n",
       "3             USA       Wisconsin    Milwaukee       8 - 10 years   \n",
       "4              US  South Carolina   Greenville       8 - 10 years   \n",
       "\n",
       "  Field_Expe_Years        Education      Gender  \n",
       "0        5-7 years  Master's degree       Woman  \n",
       "1        5-7 years   College degree  Non-binary  \n",
       "2      2 - 4 years   College degree       Woman  \n",
       "3        5-7 years   College degree       Woman  \n",
       "4        5-7 years   College degree       Woman  "
      ]
     },
     "execution_count": 38,
     "metadata": {},
     "output_type": "execute_result"
    }
   ],
   "source": [
    "#Check head and tail for overview\n",
    "\n",
    "df.head()"
   ]
  },
  {
   "cell_type": "code",
   "execution_count": 39,
   "id": "f64c1688-303d-45c1-85a7-ec631c52a451",
   "metadata": {},
   "outputs": [
    {
     "data": {
      "text/html": [
       "<div>\n",
       "<style scoped>\n",
       "    .dataframe tbody tr th:only-of-type {\n",
       "        vertical-align: middle;\n",
       "    }\n",
       "\n",
       "    .dataframe tbody tr th {\n",
       "        vertical-align: top;\n",
       "    }\n",
       "\n",
       "    .dataframe thead th {\n",
       "        text-align: right;\n",
       "    }\n",
       "</style>\n",
       "<table border=\"1\" class=\"dataframe\">\n",
       "  <thead>\n",
       "    <tr style=\"text-align: right;\">\n",
       "      <th></th>\n",
       "      <th>Timestamp</th>\n",
       "      <th>Age</th>\n",
       "      <th>Industry</th>\n",
       "      <th>Job_title</th>\n",
       "      <th>Job_title_context</th>\n",
       "      <th>Annual_Salary</th>\n",
       "      <th>Monetary_Compensation</th>\n",
       "      <th>Currency</th>\n",
       "      <th>Other_currencies</th>\n",
       "      <th>Income_context</th>\n",
       "      <th>Country_of_work</th>\n",
       "      <th>US_State</th>\n",
       "      <th>City_of_work</th>\n",
       "      <th>Overral_experience</th>\n",
       "      <th>Field_Expe_Years</th>\n",
       "      <th>Education</th>\n",
       "      <th>Gender</th>\n",
       "    </tr>\n",
       "  </thead>\n",
       "  <tbody>\n",
       "    <tr>\n",
       "      <th>28080</th>\n",
       "      <td>9/25/2024 19:54:18</td>\n",
       "      <td>45-54</td>\n",
       "      <td>Accounting, Banking &amp; Finance</td>\n",
       "      <td>Product Manager Lead</td>\n",
       "      <td>NaN</td>\n",
       "      <td>117000</td>\n",
       "      <td>8000.0</td>\n",
       "      <td>USD</td>\n",
       "      <td>NaN</td>\n",
       "      <td>NaN</td>\n",
       "      <td>USA</td>\n",
       "      <td>Missouri</td>\n",
       "      <td>Remote</td>\n",
       "      <td>11 - 20 years</td>\n",
       "      <td>11 - 20 years</td>\n",
       "      <td>College degree</td>\n",
       "      <td>Woman</td>\n",
       "    </tr>\n",
       "    <tr>\n",
       "      <th>28081</th>\n",
       "      <td>9/25/2024 21:34:43</td>\n",
       "      <td>45-54</td>\n",
       "      <td>Education (Primary/Secondary)</td>\n",
       "      <td>Curriculum Writer</td>\n",
       "      <td>I am a freelance contract curriculum writer fo...</td>\n",
       "      <td>70000</td>\n",
       "      <td>0.0</td>\n",
       "      <td>USD</td>\n",
       "      <td>NaN</td>\n",
       "      <td>NaN</td>\n",
       "      <td>United States</td>\n",
       "      <td>South Carolina</td>\n",
       "      <td>Bennettsville</td>\n",
       "      <td>21 - 30 years</td>\n",
       "      <td>21 - 30 years</td>\n",
       "      <td>Master's degree</td>\n",
       "      <td>Woman</td>\n",
       "    </tr>\n",
       "    <tr>\n",
       "      <th>28082</th>\n",
       "      <td>9/30/2024 10:52:30</td>\n",
       "      <td>55-64</td>\n",
       "      <td>Government and Public Administration</td>\n",
       "      <td>Clerical Officer</td>\n",
       "      <td>NaN</td>\n",
       "      <td>28600</td>\n",
       "      <td>NaN</td>\n",
       "      <td>EUR</td>\n",
       "      <td>NaN</td>\n",
       "      <td>NaN</td>\n",
       "      <td>Ireland</td>\n",
       "      <td>NaN</td>\n",
       "      <td>Dublin</td>\n",
       "      <td>21 - 30 years</td>\n",
       "      <td>1 year or less</td>\n",
       "      <td>Professional degree (MD, JD, etc.)</td>\n",
       "      <td>Man</td>\n",
       "    </tr>\n",
       "    <tr>\n",
       "      <th>28083</th>\n",
       "      <td>10/4/2024 13:05:24</td>\n",
       "      <td>18-24</td>\n",
       "      <td>Computing or Tech</td>\n",
       "      <td>Software Engineering Co-Op</td>\n",
       "      <td>I was an Intern</td>\n",
       "      <td>56160</td>\n",
       "      <td>0.0</td>\n",
       "      <td>USD</td>\n",
       "      <td>NaN</td>\n",
       "      <td>NaN</td>\n",
       "      <td>United States</td>\n",
       "      <td>Rhode Island</td>\n",
       "      <td>Jhonston</td>\n",
       "      <td>1 year or less</td>\n",
       "      <td>1 year or less</td>\n",
       "      <td>College degree</td>\n",
       "      <td>Man</td>\n",
       "    </tr>\n",
       "    <tr>\n",
       "      <th>28084</th>\n",
       "      <td>10/7/2024 5:17:56</td>\n",
       "      <td>65 or over</td>\n",
       "      <td>Social networks</td>\n",
       "      <td>Content creator</td>\n",
       "      <td>NaN</td>\n",
       "      <td>2000000</td>\n",
       "      <td>NaN</td>\n",
       "      <td>USD</td>\n",
       "      <td>NaN</td>\n",
       "      <td>NaN</td>\n",
       "      <td>Taiwan</td>\n",
       "      <td>Utah, Wisconsin</td>\n",
       "      <td>Milwaukee</td>\n",
       "      <td>41 years or more</td>\n",
       "      <td>2 - 4 years</td>\n",
       "      <td>PhD</td>\n",
       "      <td>Non-binary</td>\n",
       "    </tr>\n",
       "  </tbody>\n",
       "</table>\n",
       "</div>"
      ],
      "text/plain": [
       "                Timestamp         Age                              Industry  \\\n",
       "28080  9/25/2024 19:54:18       45-54         Accounting, Banking & Finance   \n",
       "28081  9/25/2024 21:34:43       45-54         Education (Primary/Secondary)   \n",
       "28082  9/30/2024 10:52:30       55-64  Government and Public Administration   \n",
       "28083  10/4/2024 13:05:24       18-24                     Computing or Tech   \n",
       "28084   10/7/2024 5:17:56  65 or over                       Social networks   \n",
       "\n",
       "                        Job_title  \\\n",
       "28080        Product Manager Lead   \n",
       "28081           Curriculum Writer   \n",
       "28082            Clerical Officer   \n",
       "28083  Software Engineering Co-Op   \n",
       "28084             Content creator   \n",
       "\n",
       "                                       Job_title_context  Annual_Salary  \\\n",
       "28080                                                NaN         117000   \n",
       "28081  I am a freelance contract curriculum writer fo...          70000   \n",
       "28082                                                NaN          28600   \n",
       "28083                                    I was an Intern          56160   \n",
       "28084                                                NaN        2000000   \n",
       "\n",
       "       Monetary_Compensation Currency Other_currencies Income_context  \\\n",
       "28080                 8000.0      USD              NaN            NaN   \n",
       "28081                    0.0      USD              NaN            NaN   \n",
       "28082                    NaN      EUR              NaN            NaN   \n",
       "28083                    0.0      USD              NaN            NaN   \n",
       "28084                    NaN      USD              NaN            NaN   \n",
       "\n",
       "      Country_of_work         US_State   City_of_work Overral_experience  \\\n",
       "28080             USA         Missouri         Remote      11 - 20 years   \n",
       "28081   United States   South Carolina  Bennettsville      21 - 30 years   \n",
       "28082         Ireland              NaN         Dublin      21 - 30 years   \n",
       "28083   United States     Rhode Island       Jhonston     1 year or less   \n",
       "28084          Taiwan  Utah, Wisconsin      Milwaukee   41 years or more   \n",
       "\n",
       "      Field_Expe_Years                           Education      Gender  \n",
       "28080    11 - 20 years                      College degree       Woman  \n",
       "28081    21 - 30 years                     Master's degree       Woman  \n",
       "28082   1 year or less  Professional degree (MD, JD, etc.)         Man  \n",
       "28083   1 year or less                      College degree         Man  \n",
       "28084      2 - 4 years                                 PhD  Non-binary  "
      ]
     },
     "execution_count": 39,
     "metadata": {},
     "output_type": "execute_result"
    }
   ],
   "source": [
    "df.tail()"
   ]
  },
  {
   "cell_type": "code",
   "execution_count": 40,
   "id": "ade320d6-84c0-49e0-b494-041854cb0d99",
   "metadata": {},
   "outputs": [],
   "source": [
    "#Changing NaN to 0 on Salary and Compensation features\n",
    "\n",
    "df['Annual_Salary']= df['Annual_Salary'].replace(to_replace = np.nan, value = 0)"
   ]
  },
  {
   "cell_type": "code",
   "execution_count": 41,
   "id": "c061cbbc-fb68-4517-a6ef-28c11e23fe61",
   "metadata": {},
   "outputs": [],
   "source": [
    "#Changing NaN to 0 on Salary and Compensation features\n",
    "\n",
    "df['Monetary_Compensation']= df['Monetary_Compensation'].replace(to_replace = np.nan, value = 0)"
   ]
  },
  {
   "cell_type": "code",
   "execution_count": 42,
   "id": "7ea3bf55-ade6-4291-a170-4dd96066cd4f",
   "metadata": {},
   "outputs": [
    {
     "data": {
      "text/html": [
       "<div>\n",
       "<style scoped>\n",
       "    .dataframe tbody tr th:only-of-type {\n",
       "        vertical-align: middle;\n",
       "    }\n",
       "\n",
       "    .dataframe tbody tr th {\n",
       "        vertical-align: top;\n",
       "    }\n",
       "\n",
       "    .dataframe thead th {\n",
       "        text-align: right;\n",
       "    }\n",
       "</style>\n",
       "<table border=\"1\" class=\"dataframe\">\n",
       "  <thead>\n",
       "    <tr style=\"text-align: right;\">\n",
       "      <th></th>\n",
       "      <th>Timestamp</th>\n",
       "      <th>Age</th>\n",
       "      <th>Industry</th>\n",
       "      <th>Job_title</th>\n",
       "      <th>Job_title_context</th>\n",
       "      <th>Annual_Salary</th>\n",
       "      <th>Monetary_Compensation</th>\n",
       "      <th>Currency</th>\n",
       "      <th>Other_currencies</th>\n",
       "      <th>Income_context</th>\n",
       "      <th>Country_of_work</th>\n",
       "      <th>US_State</th>\n",
       "      <th>City_of_work</th>\n",
       "      <th>Overral_experience</th>\n",
       "      <th>Field_Expe_Years</th>\n",
       "      <th>Education</th>\n",
       "      <th>Gender</th>\n",
       "    </tr>\n",
       "  </thead>\n",
       "  <tbody>\n",
       "    <tr>\n",
       "      <th>0</th>\n",
       "      <td>4/27/2021 11:02:10</td>\n",
       "      <td>25-34</td>\n",
       "      <td>Education (Higher Education)</td>\n",
       "      <td>Research and Instruction Librarian</td>\n",
       "      <td>NaN</td>\n",
       "      <td>55000</td>\n",
       "      <td>0.0</td>\n",
       "      <td>USD</td>\n",
       "      <td>NaN</td>\n",
       "      <td>NaN</td>\n",
       "      <td>United States</td>\n",
       "      <td>Massachusetts</td>\n",
       "      <td>Boston</td>\n",
       "      <td>5-7 years</td>\n",
       "      <td>5-7 years</td>\n",
       "      <td>Master's degree</td>\n",
       "      <td>Woman</td>\n",
       "    </tr>\n",
       "    <tr>\n",
       "      <th>1</th>\n",
       "      <td>4/27/2021 11:02:22</td>\n",
       "      <td>25-34</td>\n",
       "      <td>Computing or Tech</td>\n",
       "      <td>Change &amp; Internal Communications Manager</td>\n",
       "      <td>NaN</td>\n",
       "      <td>54600</td>\n",
       "      <td>4000.0</td>\n",
       "      <td>GBP</td>\n",
       "      <td>NaN</td>\n",
       "      <td>NaN</td>\n",
       "      <td>United Kingdom</td>\n",
       "      <td>NaN</td>\n",
       "      <td>Cambridge</td>\n",
       "      <td>8 - 10 years</td>\n",
       "      <td>5-7 years</td>\n",
       "      <td>College degree</td>\n",
       "      <td>Non-binary</td>\n",
       "    </tr>\n",
       "    <tr>\n",
       "      <th>2</th>\n",
       "      <td>4/27/2021 11:02:38</td>\n",
       "      <td>25-34</td>\n",
       "      <td>Accounting, Banking &amp; Finance</td>\n",
       "      <td>Marketing Specialist</td>\n",
       "      <td>NaN</td>\n",
       "      <td>34000</td>\n",
       "      <td>0.0</td>\n",
       "      <td>USD</td>\n",
       "      <td>NaN</td>\n",
       "      <td>NaN</td>\n",
       "      <td>US</td>\n",
       "      <td>Tennessee</td>\n",
       "      <td>Chattanooga</td>\n",
       "      <td>2 - 4 years</td>\n",
       "      <td>2 - 4 years</td>\n",
       "      <td>College degree</td>\n",
       "      <td>Woman</td>\n",
       "    </tr>\n",
       "    <tr>\n",
       "      <th>3</th>\n",
       "      <td>4/27/2021 11:02:41</td>\n",
       "      <td>25-34</td>\n",
       "      <td>Nonprofits</td>\n",
       "      <td>Program Manager</td>\n",
       "      <td>NaN</td>\n",
       "      <td>62000</td>\n",
       "      <td>3000.0</td>\n",
       "      <td>USD</td>\n",
       "      <td>NaN</td>\n",
       "      <td>NaN</td>\n",
       "      <td>USA</td>\n",
       "      <td>Wisconsin</td>\n",
       "      <td>Milwaukee</td>\n",
       "      <td>8 - 10 years</td>\n",
       "      <td>5-7 years</td>\n",
       "      <td>College degree</td>\n",
       "      <td>Woman</td>\n",
       "    </tr>\n",
       "    <tr>\n",
       "      <th>4</th>\n",
       "      <td>4/27/2021 11:02:42</td>\n",
       "      <td>25-34</td>\n",
       "      <td>Accounting, Banking &amp; Finance</td>\n",
       "      <td>Accounting Manager</td>\n",
       "      <td>NaN</td>\n",
       "      <td>60000</td>\n",
       "      <td>7000.0</td>\n",
       "      <td>USD</td>\n",
       "      <td>NaN</td>\n",
       "      <td>NaN</td>\n",
       "      <td>US</td>\n",
       "      <td>South Carolina</td>\n",
       "      <td>Greenville</td>\n",
       "      <td>8 - 10 years</td>\n",
       "      <td>5-7 years</td>\n",
       "      <td>College degree</td>\n",
       "      <td>Woman</td>\n",
       "    </tr>\n",
       "  </tbody>\n",
       "</table>\n",
       "</div>"
      ],
      "text/plain": [
       "            Timestamp    Age                       Industry  \\\n",
       "0  4/27/2021 11:02:10  25-34   Education (Higher Education)   \n",
       "1  4/27/2021 11:02:22  25-34              Computing or Tech   \n",
       "2  4/27/2021 11:02:38  25-34  Accounting, Banking & Finance   \n",
       "3  4/27/2021 11:02:41  25-34                     Nonprofits   \n",
       "4  4/27/2021 11:02:42  25-34  Accounting, Banking & Finance   \n",
       "\n",
       "                                  Job_title Job_title_context  Annual_Salary  \\\n",
       "0        Research and Instruction Librarian               NaN          55000   \n",
       "1  Change & Internal Communications Manager               NaN          54600   \n",
       "2                      Marketing Specialist               NaN          34000   \n",
       "3                           Program Manager               NaN          62000   \n",
       "4                        Accounting Manager               NaN          60000   \n",
       "\n",
       "   Monetary_Compensation Currency Other_currencies Income_context  \\\n",
       "0                    0.0      USD              NaN            NaN   \n",
       "1                 4000.0      GBP              NaN            NaN   \n",
       "2                    0.0      USD              NaN            NaN   \n",
       "3                 3000.0      USD              NaN            NaN   \n",
       "4                 7000.0      USD              NaN            NaN   \n",
       "\n",
       "  Country_of_work        US_State City_of_work Overral_experience  \\\n",
       "0   United States   Massachusetts       Boston          5-7 years   \n",
       "1  United Kingdom             NaN    Cambridge       8 - 10 years   \n",
       "2              US       Tennessee  Chattanooga        2 - 4 years   \n",
       "3             USA       Wisconsin    Milwaukee       8 - 10 years   \n",
       "4              US  South Carolina   Greenville       8 - 10 years   \n",
       "\n",
       "  Field_Expe_Years        Education      Gender  \n",
       "0        5-7 years  Master's degree       Woman  \n",
       "1        5-7 years   College degree  Non-binary  \n",
       "2      2 - 4 years   College degree       Woman  \n",
       "3        5-7 years   College degree       Woman  \n",
       "4        5-7 years   College degree       Woman  "
      ]
     },
     "execution_count": 42,
     "metadata": {},
     "output_type": "execute_result"
    }
   ],
   "source": [
    "df.head()"
   ]
  },
  {
   "cell_type": "code",
   "execution_count": 43,
   "id": "fdc28a9f-b51a-409f-800c-352a82bd1c64",
   "metadata": {},
   "outputs": [
    {
     "data": {
      "text/html": [
       "<div>\n",
       "<style scoped>\n",
       "    .dataframe tbody tr th:only-of-type {\n",
       "        vertical-align: middle;\n",
       "    }\n",
       "\n",
       "    .dataframe tbody tr th {\n",
       "        vertical-align: top;\n",
       "    }\n",
       "\n",
       "    .dataframe thead th {\n",
       "        text-align: right;\n",
       "    }\n",
       "</style>\n",
       "<table border=\"1\" class=\"dataframe\">\n",
       "  <thead>\n",
       "    <tr style=\"text-align: right;\">\n",
       "      <th></th>\n",
       "      <th>Annual_Salary</th>\n",
       "      <th>Monetary_Compensation</th>\n",
       "    </tr>\n",
       "  </thead>\n",
       "  <tbody>\n",
       "    <tr>\n",
       "      <th>count</th>\n",
       "      <td>2.808500e+04</td>\n",
       "      <td>2.808500e+04</td>\n",
       "    </tr>\n",
       "    <tr>\n",
       "      <th>mean</th>\n",
       "      <td>3.612420e+05</td>\n",
       "      <td>1.343166e+04</td>\n",
       "    </tr>\n",
       "    <tr>\n",
       "      <th>std</th>\n",
       "      <td>3.620792e+07</td>\n",
       "      <td>7.172276e+05</td>\n",
       "    </tr>\n",
       "    <tr>\n",
       "      <th>min</th>\n",
       "      <td>0.000000e+00</td>\n",
       "      <td>0.000000e+00</td>\n",
       "    </tr>\n",
       "    <tr>\n",
       "      <th>25%</th>\n",
       "      <td>5.400000e+04</td>\n",
       "      <td>0.000000e+00</td>\n",
       "    </tr>\n",
       "    <tr>\n",
       "      <th>50%</th>\n",
       "      <td>7.500000e+04</td>\n",
       "      <td>0.000000e+00</td>\n",
       "    </tr>\n",
       "    <tr>\n",
       "      <th>75%</th>\n",
       "      <td>1.100000e+05</td>\n",
       "      <td>5.000000e+03</td>\n",
       "    </tr>\n",
       "    <tr>\n",
       "      <th>max</th>\n",
       "      <td>6.000070e+09</td>\n",
       "      <td>1.200000e+08</td>\n",
       "    </tr>\n",
       "  </tbody>\n",
       "</table>\n",
       "</div>"
      ],
      "text/plain": [
       "       Annual_Salary  Monetary_Compensation\n",
       "count   2.808500e+04           2.808500e+04\n",
       "mean    3.612420e+05           1.343166e+04\n",
       "std     3.620792e+07           7.172276e+05\n",
       "min     0.000000e+00           0.000000e+00\n",
       "25%     5.400000e+04           0.000000e+00\n",
       "50%     7.500000e+04           0.000000e+00\n",
       "75%     1.100000e+05           5.000000e+03\n",
       "max     6.000070e+09           1.200000e+08"
      ]
     },
     "execution_count": 43,
     "metadata": {},
     "output_type": "execute_result"
    }
   ],
   "source": [
    "df.describe()"
   ]
  },
  {
   "cell_type": "code",
   "execution_count": 44,
   "id": "8af09ef0-6aea-499c-b5da-c2484afc21af",
   "metadata": {},
   "outputs": [],
   "source": [
    "pd.options.display.float_format='{:.2f}'.format\n",
    "\n",
    "#https://stackoverflow.com/questions/658763/how-to-suppress-scientific-notation-when-printing-float-values"
   ]
  },
  {
   "cell_type": "code",
   "execution_count": 45,
   "id": "34932f95-08e4-42e4-9fde-d32e9d55e6e6",
   "metadata": {},
   "outputs": [
    {
     "data": {
      "text/html": [
       "<div>\n",
       "<style scoped>\n",
       "    .dataframe tbody tr th:only-of-type {\n",
       "        vertical-align: middle;\n",
       "    }\n",
       "\n",
       "    .dataframe tbody tr th {\n",
       "        vertical-align: top;\n",
       "    }\n",
       "\n",
       "    .dataframe thead th {\n",
       "        text-align: right;\n",
       "    }\n",
       "</style>\n",
       "<table border=\"1\" class=\"dataframe\">\n",
       "  <thead>\n",
       "    <tr style=\"text-align: right;\">\n",
       "      <th></th>\n",
       "      <th>Annual_Salary</th>\n",
       "      <th>Monetary_Compensation</th>\n",
       "    </tr>\n",
       "  </thead>\n",
       "  <tbody>\n",
       "    <tr>\n",
       "      <th>count</th>\n",
       "      <td>28085.00</td>\n",
       "      <td>28085.00</td>\n",
       "    </tr>\n",
       "    <tr>\n",
       "      <th>mean</th>\n",
       "      <td>361242.01</td>\n",
       "      <td>13431.66</td>\n",
       "    </tr>\n",
       "    <tr>\n",
       "      <th>std</th>\n",
       "      <td>36207917.84</td>\n",
       "      <td>717227.63</td>\n",
       "    </tr>\n",
       "    <tr>\n",
       "      <th>min</th>\n",
       "      <td>0.00</td>\n",
       "      <td>0.00</td>\n",
       "    </tr>\n",
       "    <tr>\n",
       "      <th>25%</th>\n",
       "      <td>54000.00</td>\n",
       "      <td>0.00</td>\n",
       "    </tr>\n",
       "    <tr>\n",
       "      <th>50%</th>\n",
       "      <td>75000.00</td>\n",
       "      <td>0.00</td>\n",
       "    </tr>\n",
       "    <tr>\n",
       "      <th>75%</th>\n",
       "      <td>110000.00</td>\n",
       "      <td>5000.00</td>\n",
       "    </tr>\n",
       "    <tr>\n",
       "      <th>max</th>\n",
       "      <td>6000070000.00</td>\n",
       "      <td>120000000.00</td>\n",
       "    </tr>\n",
       "  </tbody>\n",
       "</table>\n",
       "</div>"
      ],
      "text/plain": [
       "       Annual_Salary  Monetary_Compensation\n",
       "count       28085.00               28085.00\n",
       "mean       361242.01               13431.66\n",
       "std      36207917.84              717227.63\n",
       "min             0.00                   0.00\n",
       "25%         54000.00                   0.00\n",
       "50%         75000.00                   0.00\n",
       "75%        110000.00                5000.00\n",
       "max    6000070000.00           120000000.00"
      ]
     },
     "execution_count": 45,
     "metadata": {},
     "output_type": "execute_result"
    }
   ],
   "source": [
    "df.describe()"
   ]
  },
  {
   "cell_type": "code",
   "execution_count": 46,
   "id": "8783911d-d4df-49d7-ab08-c0b3cb366e64",
   "metadata": {},
   "outputs": [
    {
     "data": {
      "text/plain": [
       "<Axes: xlabel='Annual_Salary'>"
      ]
     },
     "execution_count": 46,
     "metadata": {},
     "output_type": "execute_result"
    },
    {
     "data": {
      "image/png": "[encoded data removed]",
      "text/plain": [
       "<Figure size 640x480 with 1 Axes>"
      ]
     },
     "metadata": {},
     "output_type": "display_data"
    }
   ],
   "source": [
    "#Outliers\n",
    "sns.boxplot(data=df, x=\"Annual_Salary\")"
   ]
  },
  {
   "cell_type": "code",
   "execution_count": 47,
   "id": "fe1f8e72-d3e4-4da0-8163-440d0cfa2fa7",
   "metadata": {},
   "outputs": [],
   "source": [
    "#sns.catplot(data=df, x=\"Annual_Salary\",kind=\"count\")"
   ]
  },
  {
   "cell_type": "code",
   "execution_count": 48,
   "id": "b91f5850-80ee-4e8f-86a7-546d69b52a25",
   "metadata": {},
   "outputs": [],
   "source": [
    "# Income_context has only 3043 non-null values, which mean almost 90% of the data is missing for this feature so it became redundant. \n",
    "#Job_title_context is also redundant with only a bit more than 25% of data.\n",
    "# Other_currencies has only 206 values and it can be dropped\n",
    "#Us state and city I will not use because I will use currency as geographic\n",
    "\n",
    "new_df = df.drop(columns=['Income_context','Job_title_context','Other_currencies','US_State','City_of_work'])"
   ]
  },
  {
   "cell_type": "code",
   "execution_count": 49,
   "id": "214d250a-2598-4f8d-a498-652c25478c13",
   "metadata": {},
   "outputs": [
    {
     "name": "stdout",
     "output_type": "stream",
     "text": [
      "<class 'pandas.core.frame.DataFrame'>\n",
      "Index: 28085 entries, 0 to 28084\n",
      "Data columns (total 12 columns):\n",
      " #   Column                 Non-Null Count  Dtype  \n",
      "---  ------                 --------------  -----  \n",
      " 0   Timestamp              28085 non-null  object \n",
      " 1   Age                    28085 non-null  object \n",
      " 2   Industry               28011 non-null  object \n",
      " 3   Job_title              28083 non-null  object \n",
      " 4   Annual_Salary          28085 non-null  int64  \n",
      " 5   Monetary_Compensation  28085 non-null  float64\n",
      " 6   Currency               28085 non-null  object \n",
      " 7   Country_of_work        28084 non-null  object \n",
      " 8   Overral_experience     28085 non-null  object \n",
      " 9   Field_Expe_Years       28085 non-null  object \n",
      " 10  Education              27863 non-null  object \n",
      " 11  Gender                 27914 non-null  object \n",
      "dtypes: float64(1), int64(1), object(10)\n",
      "memory usage: 2.8+ MB\n"
     ]
    }
   ],
   "source": [
    "new_df.info()"
   ]
  },
  {
   "cell_type": "code",
   "execution_count": 50,
   "id": "666f217f-94b5-46df-bc89-7e0dfdafdffd",
   "metadata": {},
   "outputs": [],
   "source": [
    "df = new_df"
   ]
  },
  {
   "cell_type": "code",
   "execution_count": 51,
   "id": "3fcde05a-17cf-44b3-97dc-d514347dc3f1",
   "metadata": {},
   "outputs": [
    {
     "data": {
      "text/plain": [
       "Timestamp                  0\n",
       "Age                        0\n",
       "Industry                  74\n",
       "Job_title                  2\n",
       "Annual_Salary              0\n",
       "Monetary_Compensation      0\n",
       "Currency                   0\n",
       "Country_of_work            1\n",
       "Overral_experience         0\n",
       "Field_Expe_Years           0\n",
       "Education                222\n",
       "Gender                   171\n",
       "dtype: int64"
      ]
     },
     "execution_count": 51,
     "metadata": {},
     "output_type": "execute_result"
    }
   ],
   "source": [
    "df.isnull().sum()"
   ]
  },
  {
   "cell_type": "code",
   "execution_count": 52,
   "id": "ee34b0aa-391a-4431-b40c-d72b1563c699",
   "metadata": {},
   "outputs": [],
   "source": [
    "#Replacements ={'Peso Argentino':'ARS', 'BR$':'BRL','canadian':'CAD','Dkk':'DKK','Indian rupees':'INR','BRL (R$)':'BRL',\n",
    "               "
   ]
  },
  {
   "cell_type": "code",
   "execution_count": 53,
   "id": "a781a6f8-81ea-43bc-bec4-65967c778312",
   "metadata": {},
   "outputs": [],
   "source": [
    "#df['Other_currencies']=df['Other_currencies'].replace(Replacements)"
   ]
  },
  {
   "cell_type": "code",
   "execution_count": 54,
   "id": "a8014ebe-14ee-4a6c-992c-1ebf472a76d4",
   "metadata": {},
   "outputs": [],
   "source": [
    "Replacements={'65 or over':'65>','under 18':'18<'}"
   ]
  },
  {
   "cell_type": "code",
   "execution_count": 55,
   "id": "297d3aaa-e871-406a-9e2a-de81572cc06b",
   "metadata": {},
   "outputs": [],
   "source": [
    "df['Age']=df['Age'].replace(Replacements)"
   ]
  },
  {
   "cell_type": "code",
   "execution_count": 56,
   "id": "ff7c6837-57b8-4bd8-9d78-e983022c39bd",
   "metadata": {},
   "outputs": [
    {
     "data": {
      "text/plain": [
       "array(['25-34', '45-54', '35-44', '18-24', '65>', '55-64', '18<'],\n",
       "      dtype=object)"
      ]
     },
     "execution_count": 56,
     "metadata": {},
     "output_type": "execute_result"
    }
   ],
   "source": [
    "df['Age'].unique()"
   ]
  },
  {
   "cell_type": "code",
   "execution_count": 57,
   "id": "c90c7bd0-8f8b-4798-8a96-c49d37f57924",
   "metadata": {},
   "outputs": [
    {
     "data": {
      "image/png": "[encoded data removed]",
      "text/plain": [
       "<Figure size 511.111x500 with 1 Axes>"
      ]
     },
     "metadata": {},
     "output_type": "display_data"
    }
   ],
   "source": [
    "sns.catplot(data=df, x=\"Age\",kind=\"count\",color=\"pink\", order=['18<','18-24','25-34','35-44','45-54','55-64','65>']);\n"
   ]
  },
  {
   "cell_type": "code",
   "execution_count": 58,
   "id": "fc716994-6a3b-4ce2-a592-3d4283869f7b",
   "metadata": {},
   "outputs": [
    {
     "data": {
      "text/plain": [
       "array([\"Master's degree\", 'College degree', 'PhD', nan, 'Some college',\n",
       "       'High School', 'Professional degree (MD, JD, etc.)'], dtype=object)"
      ]
     },
     "execution_count": 58,
     "metadata": {},
     "output_type": "execute_result"
    }
   ],
   "source": [
    "df['Education'].unique()"
   ]
  },
  {
   "cell_type": "code",
   "execution_count": 59,
   "id": "dc95b542-b61f-4382-910b-d669d18a38b9",
   "metadata": {
    "scrolled": true
   },
   "outputs": [
    {
     "data": {
      "image/png": "[encoded data removed]",
      "text/plain": [
       "<Figure size 1011.11x500 with 1 Axes>"
      ]
     },
     "metadata": {},
     "output_type": "display_data"
    }
   ],
   "source": [
    "#Catplot to visualize Education feature, most have college degree and masters degree\n",
    "\n",
    "sns.catplot(data=df, x=\"Education\", kind=\"count\", color=\"purple\", order=['High School','Some college','College degree', 'PhD',\n",
    "\"Master's degree\",'Professional degree','Prefer not to answer'], aspect=2.);"
   ]
  },
  {
   "cell_type": "code",
   "execution_count": 60,
   "id": "9f3dc89d-b025-4bde-be58-8ceba86f6282",
   "metadata": {
    "scrolled": true
   },
   "outputs": [
    {
     "data": {
      "image/png": "[encoded data removed]",
      "text/plain": [
       "<Figure size 761.111x500 with 1 Axes>"
      ]
     },
     "metadata": {},
     "output_type": "display_data"
    }
   ],
   "source": [
    "sns.catplot(data=df, x=\"Currency\", kind=\"count\", color=\"red\", aspect=1.5);"
   ]
  },
  {
   "cell_type": "code",
   "execution_count": 61,
   "id": "9b30453c-3f47-4bb1-a423-6332d1936561",
   "metadata": {},
   "outputs": [
    {
     "data": {
      "text/plain": [
       "array(['5-7 years', '2 - 4 years', '21 - 30 years', '11 - 20 years',\n",
       "       '1 year or less', '8 - 10 years', '31 - 40 years',\n",
       "       '41 years or more'], dtype=object)"
      ]
     },
     "execution_count": 61,
     "metadata": {},
     "output_type": "execute_result"
    }
   ],
   "source": [
    "df['Field_Expe_Years'].unique()"
   ]
  },
  {
   "cell_type": "code",
   "execution_count": 62,
   "id": "29a3750f-ed2f-4376-8c73-b4f0a981ab68",
   "metadata": {},
   "outputs": [],
   "source": [
    "Replecements_field={'5-7 years':'5-7', '2 - 4 years':'2-4', '21 - 30 years':'21-30', '11 - 20 years':'11-20',\n",
    "       '1 year or less':'1<', '8 - 10 years':'8-10', '31 - 40 years':'31-40',\n",
    "       '41 years or more':'41>'}\n"
   ]
  },
  {
   "cell_type": "code",
   "execution_count": 63,
   "id": "62244c21-af66-4da2-8d5c-8be8088bdf70",
   "metadata": {},
   "outputs": [],
   "source": [
    "df['Field_Expe_Years']=df['Field_Expe_Years'].replace(Replecements_field)"
   ]
  },
  {
   "cell_type": "code",
   "execution_count": 64,
   "id": "16be61c3-0825-4a98-a99c-cc3a3b92eca6",
   "metadata": {},
   "outputs": [
    {
     "data": {
      "text/plain": [
       "array(['5-7', '2-4', '21-30', '11-20', '1<', '8-10', '31-40', '41>'],\n",
       "      dtype=object)"
      ]
     },
     "execution_count": 64,
     "metadata": {},
     "output_type": "execute_result"
    }
   ],
   "source": [
    "df['Field_Expe_Years'].unique()"
   ]
  },
  {
   "cell_type": "code",
   "execution_count": 65,
   "id": "3b93c636-b25a-4bd0-9311-385a4a7a19ef",
   "metadata": {
    "scrolled": true
   },
   "outputs": [
    {
     "data": {
      "image/png": "[encoded data removed]",
      "text/plain": [
       "<Figure size 511.111x500 with 1 Axes>"
      ]
     },
     "metadata": {},
     "output_type": "display_data"
    }
   ],
   "source": [
    "sns.catplot(data=df, x=\"Field_Expe_Years\", kind=\"count\", color=\"red\", order=['1<','2-4','5-7','8-10','11-20','21-30','31-40','41>']);"
   ]
  },
  {
   "cell_type": "code",
   "execution_count": 67,
   "id": "22cfd02e-275f-4761-bb5b-ed25a2708c91",
   "metadata": {},
   "outputs": [
    {
     "data": {
      "image/png": "[encoded data removed]",
      "text/plain": [
       "<Figure size 711.111x500 with 1 Axes>"
      ]
     },
     "metadata": {},
     "output_type": "display_data"
    }
   ],
   "source": [
    "sns.catplot(data=df, x=\"Gender\", kind=\"count\", color=\"green\",aspect=1.4, order=['Man','Woman','Non-binary','Other','Prefer not to answer']);"
   ]
  },
  {
   "cell_type": "code",
   "execution_count": 69,
   "id": "f1384917-94d0-4918-94e5-c66cc9bfb783",
   "metadata": {},
   "outputs": [
    {
     "data": {
      "text/plain": [
       "array(['United States', 'United Kingdom', 'US', 'USA', 'Canada',\n",
       "       'United Kingdom ', 'usa', 'UK', 'Scotland ', 'U.S.',\n",
       "       'United States ', 'The Netherlands', 'Australia ', 'Spain', 'us',\n",
       "       'Usa', 'England', 'finland', 'United States of America', 'France',\n",
       "       'United states', 'Scotland', 'USA ', 'United states ', 'Germany',\n",
       "       'UK ', 'united states', 'Ireland', 'India', 'Australia', 'Uk',\n",
       "       'United States of America ', 'U.S. ', 'canada', 'Canada ', 'U.S>',\n",
       "       'ISA', 'Argentina', 'Great Britain ', 'US ', 'United State',\n",
       "       'U.S.A', 'Denmark', 'U.S.A.', 'America', 'Netherlands',\n",
       "       'netherlands', 'England ', 'united states of america', 'Ireland ',\n",
       "       'Switzerland', 'Netherlands ', 'Bermuda', 'Us',\n",
       "       'The United States', 'United State of America', 'Germany ',\n",
       "       'Malaysia', 'Mexico ', 'United Stated', 'South Africa ', 'Belgium',\n",
       "       'Northern Ireland', 'u.s.', 'South Africa', 'UNITED STATES',\n",
       "       'united States', 'Sweden', 'Hong Kong', 'Kuwait', 'Norway',\n",
       "       'Sri lanka', 'Contracts', 'USA-- Virgin Islands', 'United Statws',\n",
       "       'England/UK', 'U.S',\n",
       "       \"We don't get raises, we get quarterly bonuses, but they periodically asses income in the area you work, so I got a raise because a 3rd party assessment showed I was paid too little for the area we were located\",\n",
       "       'Unites States ', 'Usa ', 'U.S.A. ', 'England, UK.', 'Greece',\n",
       "       'Japan', 'U. S. ', 'Britain ', 'United Sates', 'Japan ', 'Austria',\n",
       "       'Brazil', 'Canada, Ottawa, ontario', 'Global', 'Sweden ',\n",
       "       'United States of American ', 'FRANCE', 'Uniited States',\n",
       "       'United Kingdom (England)',\n",
       "       'Worldwide (based in US but short term trips aroudn the world)',\n",
       "       'CANADA ', 'Canadw', 'Hungary', 'Luxembourg',\n",
       "       'United Sates of America', 'ireland',\n",
       "       'United States (I work from home and my clients are all over the US/Canada/PR',\n",
       "       'Colombia', 'CANADA', 'Unted States', 'germany', 'United Statesp',\n",
       "       'United Stattes', 'United Statea', 'United Kingdom.', 'Mexico',\n",
       "       'New Zealand', 'Trinidad and Tobago', 'Unites States',\n",
       "       'United Statees', 'United kingdom', 'Cayman Islands',\n",
       "       'UNited States', 'Can',\n",
       "       'I am located in Canada but I work for a company in the US',\n",
       "       'United kingdom ', 'Uniyed states', 'Uniyes States',\n",
       "       'United States of Americas', 'U.A.', 'Czech republic', 'Czechia',\n",
       "       'Latvia', 'Finland', 'U. S.', 'Puerto Rico', 'US of A', 'Rwanda',\n",
       "       'United States of america ', 'United Arab Emirates ',\n",
       "       'Bangladesh ', 'Spain ', 'U.K. ', 'Romania', 'U.SA',\n",
       "       'United Kindom', 'United Status', 'New Zealand ',\n",
       "       'Currently finance', ' U.S.', 'Serbia', 'Philippines', 'Russia ',\n",
       "       'Poland', 'UXZ', 'czech republic', 'England, UK', 'Turkey',\n",
       "       'Canda', 'Puerto Rico ', 'Canada and USA', 'Catalonia',\n",
       "       '$2,175.84/year is deducted for benefits', 'uk', 'France ',\n",
       "       'Italy (South)', 'Jersey, Channel islands', 'Uk ', 'China',\n",
       "       'Virginia', 'Afghanistan', 'Israel', 'U.s.', 'Great Britain',\n",
       "       'U.s.a.', 'USS', 'Denmark ', 'Uniteed States',\n",
       "       'New Zealand Aotearoa', 'U.K.', 'Hartford',\n",
       "       'Japan, US Gov position', 'Csnada', 'United Stares', 'New zealand',\n",
       "       'Mainland China', 'I.S.', 'UK (Northern Ireland)',\n",
       "       'UK for U.S. company', ' US', 'Unites states ', 'NZ', 'Us ',\n",
       "       'Hong Kong ', 'Taiwan', 'Canad', 'Unite States', 'australia',\n",
       "       'The US', 'united states ', 'The Netherlands ', 'Cambodia',\n",
       "       'United states of America ', 'Vietnam', 'Remote', 'Singapore',\n",
       "       'South Korea', 'Czech Republic ', 'Thailand', 'Bangladesh',\n",
       "       'Lithuania', 'Eritrea', 'Indonesia', 'Singapore ',\n",
       "       'For the United States government, but posted overseas', 'IS',\n",
       "       'Switzerland ', 'United Kingdomk', 'Italy', ' New Zealand', 'Cuba',\n",
       "       'Slovenia', 'Australi', \"Cote d'Ivoire\", 'united kingdom',\n",
       "       'From Romania, but for an US based company', 'Somalia',\n",
       "       'Wales (United Kingdom)', 'England, Gb', 'Czech Republic',\n",
       "       'UnitedStates', 'Sri Lanka', 'spain', 'Danmark',\n",
       "       'U.K. (northern England)', 'U.K', 'NL', 'the Netherlands',\n",
       "       'Nederland', 'Slovakia', 'United States of america', 'Portugal ',\n",
       "       'England, United Kingdom', 'Sierra Leone', 'Englang',\n",
       "       'United statew', 'UAE', 'Belgium ',\n",
       "       'bonus based on meeting yearly goals set w/ my supervisor',\n",
       "       'International ', 'The Bahamas ', 'Wales',\n",
       "       \"I earn commission on sales. If I meet quota, I'm guaranteed another 16k min. Last year i earned an additional 27k. It's not uncommon for people in my space to earn 100k+ after commission. \",\n",
       "       'Costa Rica', ' United States', 'United Statues', 'Untied States',\n",
       "       'USA (company is based in a US territory, I work remote)', 'Chile',\n",
       "       'denmark', 'UK (England)', 'UK, remote', 'Scotland, UK', 'USAB',\n",
       "       'Unitied States', 'Norway ', 'Qatar', 'United Sttes',\n",
       "       'Remote (philippines)', 'Brazil ', 'Unites kingdom ',\n",
       "       'South africa', 'Portugal', 'united stated',\n",
       "       'United States Of America', 'Nigeria', 'Panamá',\n",
       "       'Northern Ireland ', 'england', 'SWITZERLAND',\n",
       "       'Austria, but I work remotely for a Dutch/British company',\n",
       "       \"I work for an US based company but I'm from Argentina.\",\n",
       "       'I was brought in on this salary to help with the EHR and very quickly was promoted to current position but compensation was not altered. ',\n",
       "       'Uniter Statez', 'U. S ', 'Congo', 'United states of America',\n",
       "       'Uruguay', 'Pakistan', 'Brasil', 'USA tomorrow ', 'United Stateds',\n",
       "       'n/a (remote from wherever I want)', 'singapore',\n",
       "       'US govt employee overseas, country withheld', 'usa ', 'Malaysia ',\n",
       "       'Uganda', 'Malta', 'Saudi Arabia', 'Bulgaria', 'Estonia',\n",
       "       'Morocco', 'new zealand', 'Africa', 'Ecuador', 'Zimbabwe', 'Ghana',\n",
       "       'San Francisco', 'Usat', '🇺🇸 ', 'Luxemburg', 'Unitef Stated', 'UA',\n",
       "       'Wales, UK', 'United Stares ', 'Croatia ',\n",
       "       'England, United Kingdom ', 'United STates', 'USaa', 'uSA',\n",
       "       'South Korea ', 'The netherlands', 'Ukraine ', 'america',\n",
       "       'switzerland', 'United States- Puerto Rico',\n",
       "       'From New Zealand but on projects across APAC', 'Y', 'United y',\n",
       "       'Wales (UK)', 'Isle of Man', 'Northern Ireland, United Kingdom',\n",
       "       'europe', 'California ',\n",
       "       'UK, but for globally fully remote company', 'Australian ',\n",
       "       'México', 'Jamaica', 'uS', 'USD', 'the netherlands',\n",
       "       \"USA, but for foreign gov't\", 'japan', 'Kenya', 'Jordan',\n",
       "       'United Statss', 'ARGENTINA BUT MY ORG IS IN THAILAND',\n",
       "       'United states of america', 'UsA',\n",
       "       'I work for a UAE-based organization, though I am personally in the US.',\n",
       "       'United  States', 'france', 'Aotearoa New Zealand', nan, 'Policy',\n",
       "       'Cyprus', 'hong konh', 'United States is America', 'Liechtenstein',\n",
       "       'Company in Germany. I work from Pakistan.', 'croatia', 'Canadá',\n",
       "       'ENGLAND', 'United States of American', 'U.S.A ', 'INDIA',\n",
       "       'Bosnia and Herzegovina', 'NIGERIA', 'Poland ', 'pakistan',\n",
       "       'Nigeria ', 'London', 'ss', 'dbfemf', 'ibdia', 'LOUTRELAND',\n",
       "       'philippines', 'ff', 'Myanmar', 'Burma'], dtype=object)"
      ]
     },
     "execution_count": 69,
     "metadata": {},
     "output_type": "execute_result"
    }
   ],
   "source": [
    "df['Country_of_work'].unique()"
   ]
  },
  {
   "cell_type": "code",
   "execution_count": 70,
   "id": "20e90205-a746-432a-bced-7293e89c79e2",
   "metadata": {},
   "outputs": [],
   "source": [
    "df_country = df.sort_values('Country_of_work')"
   ]
  },
  {
   "cell_type": "code",
   "execution_count": 71,
   "id": "210c6aa9-d751-4825-b489-552d628bed81",
   "metadata": {},
   "outputs": [
    {
     "data": {
      "text/plain": [
       "array([' New Zealand', ' U.S.', ' US', ' United States',\n",
       "       '$2,175.84/year is deducted for benefits',\n",
       "       'ARGENTINA BUT MY ORG IS IN THAILAND', 'Afghanistan', 'Africa',\n",
       "       'America', 'Aotearoa New Zealand', 'Argentina', 'Australi',\n",
       "       'Australia', 'Australia ', 'Australian ', 'Austria',\n",
       "       'Austria, but I work remotely for a Dutch/British company',\n",
       "       'Bangladesh', 'Bangladesh ', 'Belgium', 'Belgium ', 'Bermuda',\n",
       "       'Bosnia and Herzegovina', 'Brasil', 'Brazil', 'Brazil ',\n",
       "       'Britain ', 'Bulgaria', 'Burma', 'CANADA', 'CANADA ',\n",
       "       'California ', 'Cambodia', 'Can', 'Canad', 'Canada', 'Canada ',\n",
       "       'Canada and USA', 'Canada, Ottawa, ontario', 'Canadw', 'Canadá',\n",
       "       'Canda', 'Catalonia', 'Cayman Islands', 'Chile', 'China',\n",
       "       'Colombia', 'Company in Germany. I work from Pakistan.', 'Congo',\n",
       "       'Contracts', 'Costa Rica', \"Cote d'Ivoire\", 'Croatia ', 'Csnada',\n",
       "       'Cuba', 'Currently finance', 'Cyprus', 'Czech Republic',\n",
       "       'Czech Republic ', 'Czech republic', 'Czechia', 'Danmark',\n",
       "       'Denmark', 'Denmark ', 'ENGLAND', 'Ecuador', 'England', 'England ',\n",
       "       'England, Gb', 'England, UK', 'England, UK.',\n",
       "       'England, United Kingdom', 'England, United Kingdom ',\n",
       "       'England/UK', 'Englang', 'Eritrea', 'Estonia', 'FRANCE', 'Finland',\n",
       "       'For the United States government, but posted overseas', 'France',\n",
       "       'France ', 'From New Zealand but on projects across APAC',\n",
       "       'From Romania, but for an US based company', 'Germany', 'Germany ',\n",
       "       'Ghana', 'Global', 'Great Britain', 'Great Britain ', 'Greece',\n",
       "       'Hartford', 'Hong Kong', 'Hong Kong ', 'Hungary',\n",
       "       'I am located in Canada but I work for a company in the US',\n",
       "       \"I earn commission on sales. If I meet quota, I'm guaranteed another 16k min. Last year i earned an additional 27k. It's not uncommon for people in my space to earn 100k+ after commission. \",\n",
       "       'I was brought in on this salary to help with the EHR and very quickly was promoted to current position but compensation was not altered. ',\n",
       "       'I work for a UAE-based organization, though I am personally in the US.',\n",
       "       \"I work for an US based company but I'm from Argentina.\", 'I.S.',\n",
       "       'INDIA', 'IS', 'ISA', 'India', 'Indonesia', 'International ',\n",
       "       'Ireland', 'Ireland ', 'Isle of Man', 'Israel', 'Italy',\n",
       "       'Italy (South)', 'Jamaica', 'Japan', 'Japan ',\n",
       "       'Japan, US Gov position', 'Jersey, Channel islands', 'Jordan',\n",
       "       'Kenya', 'Kuwait', 'LOUTRELAND', 'Latvia', 'Liechtenstein',\n",
       "       'Lithuania', 'London', 'Luxembourg', 'Luxemburg', 'Mainland China',\n",
       "       'Malaysia', 'Malaysia ', 'Malta', 'Mexico', 'Mexico ', 'Morocco',\n",
       "       'Myanmar', 'México', 'NIGERIA', 'NL', 'NZ', 'Nederland',\n",
       "       'Netherlands', 'Netherlands ', 'New Zealand', 'New Zealand ',\n",
       "       'New Zealand Aotearoa', 'New zealand', 'Nigeria', 'Nigeria ',\n",
       "       'Northern Ireland', 'Northern Ireland ',\n",
       "       'Northern Ireland, United Kingdom', 'Norway', 'Norway ',\n",
       "       'Pakistan', 'Panamá', 'Philippines', 'Poland', 'Poland ', 'Policy',\n",
       "       'Portugal', 'Portugal ', 'Puerto Rico', 'Puerto Rico ', 'Qatar',\n",
       "       'Remote', 'Remote (philippines)', 'Romania', 'Russia ', 'Rwanda',\n",
       "       'SWITZERLAND', 'San Francisco', 'Saudi Arabia', 'Scotland',\n",
       "       'Scotland ', 'Scotland, UK', 'Serbia', 'Sierra Leone', 'Singapore',\n",
       "       'Singapore ', 'Slovakia', 'Slovenia', 'Somalia', 'South Africa',\n",
       "       'South Africa ', 'South Korea', 'South Korea ', 'South africa',\n",
       "       'Spain', 'Spain ', 'Sri Lanka', 'Sri lanka', 'Sweden', 'Sweden ',\n",
       "       'Switzerland', 'Switzerland ', 'Taiwan', 'Thailand',\n",
       "       'The Bahamas ', 'The Netherlands', 'The Netherlands ', 'The US',\n",
       "       'The United States', 'The netherlands', 'Trinidad and Tobago',\n",
       "       'Turkey', 'U. S ', 'U. S.', 'U. S. ', 'U.A.', 'U.K', 'U.K.',\n",
       "       'U.K. ', 'U.K. (northern England)', 'U.S', 'U.S.', 'U.S. ',\n",
       "       'U.S.A', 'U.S.A ', 'U.S.A.', 'U.S.A. ', 'U.S>', 'U.SA', 'U.s.',\n",
       "       'U.s.a.', 'UA', 'UAE', 'UK', 'UK ', 'UK (England)',\n",
       "       'UK (Northern Ireland)', 'UK for U.S. company',\n",
       "       'UK, but for globally fully remote company', 'UK, remote',\n",
       "       'UNITED STATES', 'UNited States', 'US', 'US ',\n",
       "       'US govt employee overseas, country withheld', 'US of A', 'USA',\n",
       "       'USA ', 'USA (company is based in a US territory, I work remote)',\n",
       "       'USA tomorrow ', \"USA, but for foreign gov't\",\n",
       "       'USA-- Virgin Islands', 'USAB', 'USD', 'USS', 'USaa', 'UXZ',\n",
       "       'Uganda', 'Uk', 'Uk ', 'Ukraine ', 'Uniited States',\n",
       "       'Unite States', 'United  States', 'United Arab Emirates ',\n",
       "       'United Kindom', 'United Kingdom', 'United Kingdom ',\n",
       "       'United Kingdom (England)', 'United Kingdom.', 'United Kingdomk',\n",
       "       'United STates', 'United Sates', 'United Sates of America',\n",
       "       'United Stares', 'United Stares ', 'United State',\n",
       "       'United State of America', 'United Statea', 'United Stated',\n",
       "       'United Stateds', 'United Statees', 'United States',\n",
       "       'United States ',\n",
       "       'United States (I work from home and my clients are all over the US/Canada/PR',\n",
       "       'United States Of America', 'United States is America',\n",
       "       'United States of America', 'United States of America ',\n",
       "       'United States of American', 'United States of American ',\n",
       "       'United States of Americas', 'United States of america',\n",
       "       'United States of america ', 'United States- Puerto Rico',\n",
       "       'United Statesp', 'United Statss', 'United Stattes',\n",
       "       'United Statues', 'United Status', 'United Statws', 'United Sttes',\n",
       "       'United kingdom', 'United kingdom ', 'United states',\n",
       "       'United states ', 'United states of America',\n",
       "       'United states of America ', 'United states of america',\n",
       "       'United statew', 'United y', 'UnitedStates', 'Uniteed States',\n",
       "       'Unitef Stated', 'Uniter Statez', 'Unites States',\n",
       "       'Unites States ', 'Unites kingdom ', 'Unites states ',\n",
       "       'Unitied States', 'Uniyed states', 'Uniyes States', 'Unted States',\n",
       "       'Untied States', 'Uruguay', 'Us', 'Us ', 'UsA', 'Usa', 'Usa ',\n",
       "       'Usat', 'Vietnam', 'Virginia', 'Wales', 'Wales (UK)',\n",
       "       'Wales (United Kingdom)', 'Wales, UK',\n",
       "       \"We don't get raises, we get quarterly bonuses, but they periodically asses income in the area you work, so I got a raise because a 3rd party assessment showed I was paid too little for the area we were located\",\n",
       "       'Worldwide (based in US but short term trips aroudn the world)',\n",
       "       'Y', 'Zimbabwe', 'america', 'australia',\n",
       "       'bonus based on meeting yearly goals set w/ my supervisor',\n",
       "       'canada', 'croatia', 'czech republic', 'dbfemf', 'denmark',\n",
       "       'england', 'europe', 'ff', 'finland', 'france', 'germany',\n",
       "       'hong konh', 'ibdia', 'ireland', 'japan',\n",
       "       'n/a (remote from wherever I want)', 'netherlands', 'new zealand',\n",
       "       'pakistan', 'philippines', 'singapore', 'spain', 'ss',\n",
       "       'switzerland', 'the Netherlands', 'the netherlands', 'u.s.', 'uS',\n",
       "       'uSA', 'uk', 'united States', 'united kingdom', 'united stated',\n",
       "       'united states', 'united states ', 'united states of america',\n",
       "       'us', 'usa', 'usa ', '🇺🇸 ', nan], dtype=object)"
      ]
     },
     "execution_count": 71,
     "metadata": {},
     "output_type": "execute_result"
    }
   ],
   "source": [
    "df_country['Country_of_work'].unique()"
   ]
  },
  {
   "cell_type": "code",
   "execution_count": 92,
   "id": "50accdd3-b6f5-4f5b-944d-295df1beb164",
   "metadata": {},
   "outputs": [],
   "source": [
    "Replac_Country={' New Zealand':'New Zealand', ' U.S.':'USA', ' US':'USA', ' United States':'USA',\n",
    "'$2,175.84/year is deducted for benefits':'','ARGENTINA BUT MY ORG IS IN THAILAND':'Argentina', 'Africa':'South Africa',\n",
    "'America':'USA', 'Aotearoa New Zealand':'New Zealand','Australi':'Australia', 'Australia ':'Australia', 'Australian ':'Australia', 'Austria':'Austria','Austria, but I work remotely for a Dutch/British company':'Austria',\n",
    "'Bangladesh ':'Bangladesh','Belgium ':'Belgium','Brasil':'Brazil', 'Brazil ':'Brazil','Britain ':'UK', 'Burma':'Myanmar', 'CANADA':'Canada', 'CANADA ':'Canada',\n",
    "'California ':'USA', 'Can':'Canada', 'Canad':'Canada','Canada ':'Canada', 'Canada and USA':'Canada', 'Canada, Ottawa, ontario':'Canada', 'Canadw':'Canada', \n",
    "'Canadá':'Canada','Canda':'Canada', 'Catalonia':'Spain', 'Cayman Islands':'UK','Company in Germany. I work from Pakistan.':'Pakistan',\n",
    "'Contracts':'','Croatia ':'Croatia', 'Csnada':'Canada','Currently finance':'','Czech Republic ':'Czech Republic','Czech republic':'Czech Republic',\n",
    "'Czechia':'Czech Republic', 'Danmark':'Denmark', 'Denmark ':'Denmark', 'ENGLAND':'UK', 'England':'UK', 'England ':'UK','England, Gb':'UK', \n",
    "'England, UK':'UK', 'England, UK.':'UK','England, United Kingdom':'UK', 'England, United Kingdom ':'UK','England/UK':'UK', 'Englang':'UK',\n",
    "'FRANCE':'France','For the United States government, but posted overseas':'','France ':'France', 'From New Zealand but on projects across APAC':'New Zealand',\n",
    "'From Romania, but for an US based company':'Romania', 'Germany ':'Germany','Global':'', 'Great Britain':'UK', 'Great Britain ':'UK','Hartford':'USA',\n",
    "'Hong Kong ':'Hong Kong','I am located in Canada but I work for a company in the US':'Canada',\"I earn commission on sales. If I meet quota, I'm guaranteed another 16k min. Last year i earned an additional 27k. It's not uncommon for people in my space to earn 100k+ after commission. \":'',\n",
    "'I was brought in on this salary to help with the EHR and very quickly was promoted to current position but compensation was not altered. ':'',\n",
    "'I work for a UAE-based organization, though I am personally in the US.':'USA',\"I work for an US based company but I'm from Argentina.\":'Argentina',\n",
    "'I.S.':'Iceland','INDIA':'India', 'IS':'Iceland', 'ISA':'USA','International ':'','Ireland ':'Ireland', 'Italy (South)':'Italy',\n",
    "'Japan ':'Japan','Japan, US Gov position':'Japan', 'Jersey, Channel islands':'Channel islands', 'LOUTRELAND':'Ireland','London':'UK', 'Luxemburg':'Luxembourg',\n",
    "'Mainland China':'China', 'Malaysia ':'Malaysia', 'Mexico ':'Mexico', 'México':'Mexico', 'NIGERIA':'Nigeria', 'NL':'Netherlands', 'NZ':'New Zealand', \n",
    "'Nederland':'Netherlands','Netherlands ':'Netherlands', 'New Zealand ': 'New Zealand','New Zealand Aotearoa': 'New Zealand', 'New zealand': 'New Zealand', \n",
    "'Nigeria ':'Nigeria','Northern Ireland':'UK', 'Northern Ireland ':'UK','Northern Ireland, United Kingdom':'UK', 'Norway ':'Norway', 'Poland ':'Poland',\n",
    "'Policy':'Poland','Portugal ':'Portugal', 'Puerto Rico ':'Puerto Rico','Remote':'', 'Remote (philippines)':'Philippines','Russia ':'Russia',\n",
    "'SWITZERLAND':'Switzerland', 'San Francisco':'USA','Scotland':'UK','Scotland ':'UK', 'Scotland, UK':'UK','Singapore ': 'Singapore','South Africa ':'South Africa',\n",
    "'South Korea ':'South Korea', 'South africa':'South Africa','Spain ':'Spain', 'Sri lanka':'Sri Lanka', 'Sweden ':'Sweden','Switzerland ':'Switzerland', \n",
    "'The Netherlands':'Netherlands', 'The Netherlands ':'Netherlands', 'The US':'USA','The United States':'USA', 'The netherlands':'Netherlands',\n",
    "'U. S ':'USA', 'U. S.':'USA', 'U. S. ':'USA', 'U.A.':'UAE', 'U.K':'UK', 'U.K.':'UK','U.K. ':'UK', 'U.K. (northern England)':'UK', 'U.S':'USA',\n",
    "'U.S.':'USA', 'U.S. ':'USA','U.S.A':'USA', 'U.S.A ':'USA', 'U.S.A.':'USA', 'U.S.A. ':'USA', 'U.S>':'USA', 'U.SA':'USA', 'U.s.':'USA', 'U.s.a.':'USA',\n",
    "'UA':'UAE','UK ':'UK', 'UK (England)':'UK','UK (Northern Ireland)':'UK', 'UK for U.S. company':'UK',\n",
    "'UK, but for globally fully remote company':'UK', 'UK, remote':'UK','UNITED STATES':'USA', 'UNited States':'USA', 'US':'USA', 'US ':'USA',\n",
    "'US govt employee overseas, country withheld':'USA', 'US of A':'USA','USA ':'USA', \n",
    "'USA (company is based in a US territory, I work remote)':'USA', 'USA tomorrow ':'USA', \"USA, but for foreign gov't\":'USA',\n",
    "'USA-- Virgin Islands':'USA', 'USAB':'USA', 'USD':'USA', 'USS':'USA', 'USaa':'USA', 'UXZ':'', 'Uk':'UK', 'Uk ':'UK', 'Ukraine ':'Ukraine',\n",
    "    'Uniited States':'USA','Unite States':'USA', 'United  States':'USA', 'United Arab Emirates ':'UAE','United Kindom':'UK', 'United Kingdom':'UK',\n",
    "'United Kingdom ':'UK','United Kingdom (England)':'UK', 'United Kingdom.':'UK', 'United Kingdomk':'UK', 'United STates':'USA', 'United Sates':'USA',\n",
    "'United Sates of America':'USA','United Stares':'USA', 'United Stares ':'USA', 'United State':'USA',\n",
    "       'United State of America':'USA', 'United Statea':'USA', 'United Stated':'USA',\n",
    "       'United Stateds':'USA', 'United Statees':'USA', 'United States':'USA',\n",
    "       'United States ':'USA','United States (I work from home and my clients are all over the US/Canada/PR':'USA',\n",
    "       'United States Of America':'USA', 'United States is America':'USA','United States of America':'USA', 'United States of America ':'USA',\n",
    "       'United States of American':'USA', 'United States of American ':'USA','United States of Americas':'USA', 'United States of america':'USA',\n",
    "       'United States of america ':'USA', 'United States- Puerto Rico':'USA',\n",
    "       'United Statesp':'USA', 'United Statss':'USA', 'United Stattes':'USA',\n",
    "       'United Statues':'USA', 'United Status':'USA', 'United Statws':'USA', 'United Sttes':'USA',\n",
    "       'United kingdom':'UK', 'United kingdom ':'UK', 'United states':'USA',\n",
    "       'United states ':'USA', 'United states of America':'USA','United states of America ':'USA', 'United states of america':'USA',\n",
    "       'United statew':'USA', 'United y':'USA', 'UnitedStates':'USA', 'Uniteed States':'USA',\n",
    "       'Unitef Stated':'USA', 'Uniter Statez':'USA', 'Unites States':'USA',\n",
    "       'Unites States ':'USA', 'Unites kingdom ':'UK', 'Unites states ':'USA',\n",
    "       'Unitied States':'USA', 'Uniyed states':'USA', 'Uniyes States':'USA', 'Unted States':'USA',\n",
    "       'Untied States':'USA', 'Us':'USA', 'Us ':'USA', 'UsA':'USA', 'Usa':'USA', 'Usa ':'USA',\n",
    "       'Usat':'USA', 'Virginia':'USA', 'Wales':'UK', 'Wales (UK)':'UK',\n",
    "       'Wales (United Kingdom)':'UK', 'Wales, UK':'UK','The Bahamas ':'Bahamas',\n",
    "       \"We don't get raises, we get quarterly bonuses, but they periodically asses income in the area you work, so I got a raise because a 3rd party assessment showed I was paid too little for the area we were located\":'',\n",
    "       'Worldwide (based in US but short term trips aroudn the world)':'USA',\n",
    "       'Y':'', 'america':'USA', 'australia':'Australia',\n",
    "       'bonus based on meeting yearly goals set w/ my supervisor':'',\n",
    "       'canada':'Canada', 'croatia':'Croatia', 'czech republic':'Czech Republic', 'dbfemf':'', 'denmark':'Denmark',\n",
    "       'england':'UK', 'europe':'', 'ff':'', 'finland':'', 'france':'France', 'germany':'Germany',\n",
    "       'hong konh':'Hong Kong', 'ibdia':'India', 'ireland':'Ireland', 'japan':'Japan',\n",
    "       'n/a (remote from wherever I want)':'', 'netherlands':'Netherlands', 'new zealand':'New Zealand',\n",
    "       'pakistan':'Pakistan', 'philippines':'Philippines', 'singapore':'Singapore', 'spain':'Spain', 'ss':'',\n",
    "       'switzerland':'Switzerland', 'the Netherlands':'Netherlands', 'the netherlands':'Netherlands', 'u.s.':'USA', 'uS':'USA',\n",
    "       'uSA':'USA', 'uk':'UK', 'united States':'USA', 'united kingdom':'UK', 'united stated':'USA',\n",
    "       'united states':'USA', 'united states ':'USA', 'united states of america':'USA',\n",
    "       'us':'USA', 'usa':'USA', 'usa ':'USA', '🇺🇸 ':'USA','Panamá':'Panama','Bosnia and Herzegovina':'Bosnia'}"
   ]
  },
  {
   "cell_type": "code",
   "execution_count": 93,
   "id": "5caf257b-f42a-4d31-8811-baea7e21780c",
   "metadata": {},
   "outputs": [],
   "source": [
    "df['Country_of_work']=df['Country_of_work'].replace(Replac_Country)\n"
   ]
  },
  {
   "cell_type": "code",
   "execution_count": 94,
   "id": "fadcc087-6c51-4fcb-9150-26193b719769",
   "metadata": {},
   "outputs": [],
   "source": [
    "df_country['Country_of_work']=df['Country_of_work'].replace(Replac_Country)\n"
   ]
  },
  {
   "cell_type": "code",
   "execution_count": 95,
   "id": "bc27c329-1b8f-4935-b8ca-5d3eda266264",
   "metadata": {},
   "outputs": [
    {
     "data": {
      "text/plain": [
       "array(['New Zealand', 'USA', '', 'Argentina', 'Afghanistan',\n",
       "       'South Africa', 'Australia', 'Austria', 'Bangladesh', 'Belgium',\n",
       "       'Bermuda', 'Bosnia', 'Brazil', 'UK', 'Bulgaria', 'Myanmar',\n",
       "       'Canada', 'Cambodia', 'Spain', 'Chile', 'China', 'Colombia',\n",
       "       'Pakistan', 'Congo', 'Costa Rica', \"Cote d'Ivoire\", 'Croatia',\n",
       "       'Cuba', 'Cyprus', 'Czech Republic', 'Denmark', 'Ecuador',\n",
       "       'Eritrea', 'Estonia', 'France', 'Finland', 'Romania', 'Germany',\n",
       "       'Ghana', 'Greece', 'Hong Kong', 'Hungary', 'Iceland', 'India',\n",
       "       'Indonesia', 'Ireland', 'Isle of Man', 'Israel', 'Italy',\n",
       "       'Jamaica', 'Japan', 'Channel islands', 'Jordan', 'Kenya', 'Kuwait',\n",
       "       'Latvia', 'Liechtenstein', 'Lithuania', 'Luxembourg', 'Malaysia',\n",
       "       'Malta', 'Mexico', 'Morocco', 'Nigeria', 'Netherlands', 'Norway',\n",
       "       'Panama', 'Philippines', 'Poland', 'Portugal', 'Puerto Rico',\n",
       "       'Qatar', 'Russia', 'Rwanda', 'Switzerland', 'Saudi Arabia',\n",
       "       'Serbia', 'Sierra Leone', 'Singapore', 'Slovakia', 'Slovenia',\n",
       "       'Somalia', 'South Korea', 'Sri Lanka', 'Sweden', 'Taiwan',\n",
       "       'Thailand', 'Bahamas', 'Trinidad and Tobago', 'Turkey', 'UEA',\n",
       "       'UAE', 'Uganda', 'Ukraine', 'Uruguay', 'Vietnam', 'Zimbabwe', nan],\n",
       "      dtype=object)"
      ]
     },
     "execution_count": 95,
     "metadata": {},
     "output_type": "execute_result"
    }
   ],
   "source": [
    "df_country['Country_of_work'].unique()"
   ]
  },
  {
   "cell_type": "code",
   "execution_count": 101,
   "id": "81caa606-5c32-4267-a25a-ee45e37cb8fa",
   "metadata": {},
   "outputs": [
    {
     "data": {
      "text/plain": [
       "Text(0.5, 1.0, 'Top 10 Countries of employees')"
      ]
     },
     "execution_count": 101,
     "metadata": {},
     "output_type": "execute_result"
    },
    {
     "data": {
      "image/png": "[encoded data removed]",
      "text/plain": [
       "<Figure size 1000x500 with 1 Axes>"
      ]
     },
     "metadata": {},
     "output_type": "display_data"
    }
   ],
   "source": [
    "\n",
    "df[\"Country_of_work\"].value_counts().nlargest(10).plot(kind=\"bar\",figsize=(10,5))\n",
    "plt.title(\"Top 10 Countries of employees\")\n"
   ]
  },
  {
   "cell_type": "code",
   "execution_count": null,
   "id": "bff8c214-99b6-4199-8ff7-c017590553a8",
   "metadata": {},
   "outputs": [],
   "source": []
  }
 ],
 "metadata": {
  "kernelspec": {
   "display_name": "Python 3 (ipykernel)",
   "language": "python",
   "name": "python3"
  },
  "language_info": {
   "codemirror_mode": {
    "name": "ipython",
    "version": 3
   },
   "file_extension": ".py",
   "mimetype": "text/x-python",
   "name": "python",
   "nbconvert_exporter": "python",
   "pygments_lexer": "ipython3",
   "version": "3.12.4"
  }
 },
 "nbformat": 4,
 "nbformat_minor": 5
}
